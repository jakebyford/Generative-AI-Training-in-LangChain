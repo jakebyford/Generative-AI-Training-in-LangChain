{
 "cells": [
  {
   "cell_type": "code",
   "execution_count": 5,
   "id": "06afe56b-76a1-45da-a091-de2ab0a9e637",
   "metadata": {},
   "outputs": [
    {
     "data": {
      "text/plain": [
       "AnswerWithJustification(answer='A pound of bricks and a pound of feathers weigh the same.', justification='Both are measured as one pound, so regardless of the material, they have the same weight. The confusion often arises from the volume and density differences; bricks are denser and take up less space than feathers, which are lighter and take up more space. However, in terms of weight, one pound is equal to one pound.')"
      ]
     },
     "execution_count": 5,
     "metadata": {},
     "output_type": "execute_result"
    }
   ],
   "source": [
    "from langchain_openai import ChatOpenAI\n",
    "from pydantic import BaseModel\n",
    "\n",
    "class AnswerWithJustification(BaseModel):\n",
    "    '''\n",
    "    An answer to the user's question along \n",
    "    with justification for the answer.\n",
    "    '''\n",
    "    \n",
    "    answer: str\n",
    "    '''The answer to the user's question'''\n",
    "    \n",
    "    justification: str\n",
    "    '''Justification for the answer'''\n",
    "    \n",
    "\n",
    "# Structured Outputs are available in the latest large language models, starting with GPT-4o\n",
    "# See documentation for more details: \n",
    "# https://platform.openai.com/docs/guides/structured-outputs#supported-models\n",
    "\n",
    "llm = ChatOpenAI(model=\"gpt-4o-mini-2024-07-18\", temperature=0)\n",
    "structured_llm = llm.with_structured_output(AnswerWithJustification)\n",
    "\n",
    "structured_llm.invoke(\"\"\"What weighs more, \n",
    "                        a pound of bricks or \n",
    "                        a pound of feathers\"\"\")"
   ]
  },
  {
   "cell_type": "code",
   "execution_count": null,
   "id": "16a359ce-a432-4d78-9113-32a63a4640fa",
   "metadata": {},
   "outputs": [],
   "source": []
  }
 ],
 "metadata": {
  "kernelspec": {
   "display_name": "Python 3 (ipykernel)",
   "language": "python",
   "name": "python3"
  },
  "language_info": {
   "codemirror_mode": {
    "name": "ipython",
    "version": 3
   },
   "file_extension": ".py",
   "mimetype": "text/x-python",
   "name": "python",
   "nbconvert_exporter": "python",
   "pygments_lexer": "ipython3",
   "version": "3.12.4"
  }
 },
 "nbformat": 4,
 "nbformat_minor": 5
}
