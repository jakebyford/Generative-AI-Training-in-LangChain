{
 "cells": [
  {
   "cell_type": "code",
   "execution_count": 5,
   "id": "0b758295-5969-435a-8935-6eae44465149",
   "metadata": {},
   "outputs": [
    {
     "name": "stdout",
     "output_type": "stream",
     "text": [
      "Hugging Face, OpenAI, and Cohere offer Large Language Models (LLMs).\n"
     ]
    }
   ],
   "source": [
    "from langchain_openai.chat_models import ChatOpenAI\n",
    "from langchain_core.prompts import PromptTemplate\n",
    "\n",
    "# both `template` and `model` can be reused many times\n",
    "\n",
    "template = PromptTemplate.from_template(\"\"\"\n",
    "\n",
    "    Answer the question based on the context below.\n",
    "    If the question cannot be answered using the information provided, answer with \"I don't know\".\n",
    "    \n",
    "    Context: {context}\n",
    "    \n",
    "    Question: {question}\n",
    "    \n",
    "    Answer: \"\"\")\n",
    "    \n",
    "model = ChatOpenAI(model=\"gpt-3.5-turbo\")\n",
    "    \n",
    "    # `prompt` and `completion` are the results of using template and model once\n",
    "    \n",
    "prompt = template.invoke(\n",
    "    {\n",
    "        \"context\": \"\"\"The most recent advancements in NLP are being driven by Large Language Models (LLMs). \n",
    "                    These models outperform their smaller counterparts and have become invaluable for developers \n",
    "                    who are creating applications with NLP capabilities. Developers can tap into these models \n",
    "                    through Hugging Face's `transformers` library, or by utilizing OpenAI and Cohere's offerings \n",
    "                    through the `openai` and `cohere` libraries, respectively.\"\"\",\n",
    "        \"question\": \"Which model providers offer LLMs?\",\n",
    "    }\n",
    ")\n",
    "\n",
    "response = model.invoke(prompt)\n",
    "# print(response)\n",
    "print(response.content)\n"
   ]
  },
  {
   "cell_type": "code",
   "execution_count": null,
   "id": "05b82ec0-2c0b-4e78-b342-9b760aa4c033",
   "metadata": {},
   "outputs": [],
   "source": []
  }
 ],
 "metadata": {
  "kernelspec": {
   "display_name": "Python 3 (ipykernel)",
   "language": "python",
   "name": "python3"
  },
  "language_info": {
   "codemirror_mode": {
    "name": "ipython",
    "version": 3
   },
   "file_extension": ".py",
   "mimetype": "text/x-python",
   "name": "python",
   "nbconvert_exporter": "python",
   "pygments_lexer": "ipython3",
   "version": "3.12.4"
  }
 },
 "nbformat": 4,
 "nbformat_minor": 5
}
