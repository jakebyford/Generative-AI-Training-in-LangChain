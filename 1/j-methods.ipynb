{
 "cells": [
  {
   "cell_type": "code",
   "execution_count": 5,
   "id": "890db4a2-ebd8-49f2-aa2d-3b7f55e49f92",
   "metadata": {},
   "outputs": [
    {
     "name": "stdout",
     "output_type": "stream",
     "text": [
      "Hello! How can I assist you today?\n"
     ]
    }
   ],
   "source": [
    "from langchain_openai.chat_models import ChatOpenAI\n",
    "\n",
    "model = ChatOpenAI(model=\"gpt-3.5-turbo\")\n",
    "\n",
    "completion = model.invoke(\"Hi there!\")\n",
    "# Hi!\n",
    "\n",
    "print(completion.content)"
   ]
  },
  {
   "cell_type": "code",
   "execution_count": 4,
   "id": "de6f1b01-9414-4e7c-b87e-d2ac69494373",
   "metadata": {},
   "outputs": [
    {
     "name": "stdout",
     "output_type": "stream",
     "text": [
      "Hello! How can I assist you today?\n",
      "Goodbye! Have a great day!\n"
     ]
    }
   ],
   "source": [
    "completions = model.batch([\"Hi there!\", \"Bye!\"])\n",
    "# ['Hi!', 'See you!']\n",
    "\n",
    "for completion in completions:\n",
    "    print(completion.content)"
   ]
  },
  {
   "cell_type": "code",
   "execution_count": 7,
   "id": "0d59e099-8acd-46e6-a17c-d555542d6386",
   "metadata": {},
   "outputs": [
    {
     "name": "stdout",
     "output_type": "stream",
     "text": [
      "\n",
      "Good\n",
      "bye\n",
      "!\n",
      " Have\n",
      " a\n",
      " great\n",
      " day\n",
      "!\n",
      "\n"
     ]
    }
   ],
   "source": [
    "for token in model.stream(\"Bye!\"):\n",
    "    print(token.content)\n",
    "    # Good\n",
    "    # bye\n",
    "    # !\n"
   ]
  },
  {
   "cell_type": "code",
   "execution_count": null,
   "id": "273965ba-d91d-4ec2-af01-002172c4f1e3",
   "metadata": {},
   "outputs": [],
   "source": []
  }
 ],
 "metadata": {
  "kernelspec": {
   "display_name": "Python 3 (ipykernel)",
   "language": "python",
   "name": "python3"
  },
  "language_info": {
   "codemirror_mode": {
    "name": "ipython",
    "version": 3
   },
   "file_extension": ".py",
   "mimetype": "text/x-python",
   "name": "python",
   "nbconvert_exporter": "python",
   "pygments_lexer": "ipython3",
   "version": "3.12.4"
  }
 },
 "nbformat": 4,
 "nbformat_minor": 5
}
