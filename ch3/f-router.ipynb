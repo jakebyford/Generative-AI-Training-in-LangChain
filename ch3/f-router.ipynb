{
 "cells": [
  {
   "cell_type": "code",
   "execution_count": null,
   "id": "a09674ab-9592-4ab0-a759-30596a3b9cd5",
   "metadata": {},
   "outputs": [],
   "source": [
    "from typing import Literal\n",
    "from langchain_core.prompts import ChatPromptTemplate\n",
    "from pydantic import BaseModel, Field\n",
    "from langchain_openai import ChatOpenAI\n",
    "from langchain_core.runnables import RunnableLambda\n",
    "\n",
    "\n",
    "# Data model class\n",
    "class RouteQuery(BaseModel):\n",
    "    \"\"\"Route a user query to the most relevant datasource.\"\"\"\n",
    "    datasource: Literal[\"python_docs\", \"js_docs\"] = Field(\n",
    "        ...,\n",
    "        description=\"Given a user question, choose which datasource would be most relevant for answering their question\",\n",
    "    )\n",
    "\n",
    "\n",
    "# Prompt template\n",
    "# LLM with function call\n",
    "llm = ChatOpenAI(model=\"gpt-4o\", temperature=0)\n",
    "\n",
    "\"\"\"\n",
    "with_structured_output: Model wrapper that returns outputs formatted to match the given schema.\n",
    "\n",
    "\"\"\"\n",
    "structured_llm = llm.with_structured_output(RouteQuery)\n",
    "\n",
    "# Prompt\n",
    "system = \"\"\"You are an expert at routing a user question to the appropriate data source. Based on the programming language the question is referring to, route it to the relevant data source.\"\"\"\n",
    "prompt = ChatPromptTemplate.from_messages(\n",
    "    [(\"system\", system), (\"human\", \"{question}\")]\n",
    ")\n",
    "\n",
    "# Define router\n",
    "router = prompt | structured_llm\n",
    "\n",
    "# Run\n",
    "question = \"\"\"Why doesn't the following code work: \n",
    "from langchain_core.prompts \n",
    "import ChatPromptTemplate \n",
    "prompt = ChatPromptTemplate.from_messages([\"human\", \"speak in {language}\"]) \n",
    "prompt.invoke(\"french\") \"\"\"\n",
    "\n",
    "result = router.invoke({\"question\": question})\n",
    "print(\"\\nRouting to: \", result)"
   ]
  },
  {
   "cell_type": "code",
   "execution_count": null,
   "id": "a7fc35d0-2c2f-4c1a-9e57-fbe8d515be25",
   "metadata": {},
   "outputs": [],
   "source": [
    "\"\"\"\n",
    "Once we extracted the relevant data source, we can pass the value into another function to execute additional logic as required:\n",
    "\"\"\"\n",
    "\n",
    "\n",
    "def choose_route(result):\n",
    "    if \"python_docs\" in result.datasource.lower():\n",
    "        return \"chain for python_docs\"\n",
    "    else:\n",
    "        return \"chain for js_docs\"\n",
    "\n",
    "\n",
    "full_chain = router | RunnableLambda(choose_route)\n",
    "\n",
    "result = full_chain.invoke({\"question\": question})\n",
    "print(\"\\nChoose route: \", result)\n"
   ]
  }
 ],
 "metadata": {
  "kernelspec": {
   "display_name": "Python 3 (ipykernel)",
   "language": "python",
   "name": "python3"
  },
  "language_info": {
   "codemirror_mode": {
    "name": "ipython",
    "version": 3
   },
   "file_extension": ".py",
   "mimetype": "text/x-python",
   "name": "python",
   "nbconvert_exporter": "python",
   "pygments_lexer": "ipython3",
   "version": "3.12.4"
  }
 },
 "nbformat": 4,
 "nbformat_minor": 5
}
