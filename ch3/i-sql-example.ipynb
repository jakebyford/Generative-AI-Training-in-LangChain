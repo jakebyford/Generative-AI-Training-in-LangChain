{
 "cells": [
  {
   "cell_type": "code",
   "execution_count": null,
   "id": "726d0acf-be1a-499f-92ad-18882c28bac9",
   "metadata": {},
   "outputs": [],
   "source": [
    "\"\"\"\n",
    "The below example will use a SQLite connection with the Chinook database, which is a sample database that represents a digital media store. Follow these installation steps to create Chinook.db in the same directory as this notebook. You can also download and build the database via the command line:\n",
    "\n",
    "```bash\n",
    "curl -s https://raw.githubusercontent.com/lerocha/chinook-database/master/ChinookDatabase/DataSources/Chinook_Sqlite.sql | sqlite3 Chinook.db\n",
    "\n",
    "```\n",
    "\n",
    "Afterwards, place `Chinook.db` in the same directory where this code is running.\n",
    "\n",
    "\"\"\""
   ]
  },
  {
   "cell_type": "code",
   "execution_count": null,
   "id": "c23046f3-7213-419c-bb25-5ef00c127aff",
   "metadata": {},
   "outputs": [],
   "source": [
    "from langchain_community.tools import QuerySQLDatabaseTool\n",
    "from langchain_community.utilities import SQLDatabase\n",
    "from langchain.chains import create_sql_query_chain\n",
    "# replace this with the connection details of your db\n",
    "from langchain_openai import ChatOpenAI\n",
    "\n",
    "db = SQLDatabase.from_uri(\"sqlite:///Chinook.db\")\n",
    "print(db.get_usable_table_names())\n",
    "llm = ChatOpenAI(model=\"gpt-3.5-turbo\", temperature=0)"
   ]
  },
  {
   "cell_type": "code",
   "execution_count": null,
   "id": "f22c1336-6207-4f36-a2e6-51865372a870",
   "metadata": {},
   "outputs": [],
   "source": [
    "# convert question to sql query\n",
    "write_query = create_sql_query_chain(llm, db)\n",
    "\n",
    "# Execute SQL query\n",
    "execute_query = QuerySQLDatabaseTool(db=db)\n",
    "\n",
    "# combined chain = write_query | execute_query\n",
    "combined_chain = write_query | execute_query"
   ]
  },
  {
   "cell_type": "code",
   "execution_count": null,
   "id": "73bc41a7-d90b-46b0-a28b-6738fe7af57f",
   "metadata": {},
   "outputs": [],
   "source": [
    "# run the chain\n",
    "result = combined_chain.invoke({\"question\": \"How many employees are there?\"})\n",
    "\n",
    "print(result)"
   ]
  }
 ],
 "metadata": {
  "kernelspec": {
   "display_name": "Python 3 (ipykernel)",
   "language": "python",
   "name": "python3"
  },
  "language_info": {
   "codemirror_mode": {
    "name": "ipython",
    "version": 3
   },
   "file_extension": ".py",
   "mimetype": "text/x-python",
   "name": "python",
   "nbconvert_exporter": "python",
   "pygments_lexer": "ipython3",
   "version": "3.12.4"
  }
 },
 "nbformat": 4,
 "nbformat_minor": 5
}
