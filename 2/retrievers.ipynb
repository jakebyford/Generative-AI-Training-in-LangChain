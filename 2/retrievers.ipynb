{
 "cells": [
  {
   "cell_type": "markdown",
   "id": "bcc2b327-0bfe-41f7-9e9f-753da359b976",
   "metadata": {},
   "source": [
    "# Understanding Retrievers in RAG Systems\n",
    "\n",
    "### Introduction\n",
    "Welcome to our exploration of retrievers in Retrieval Augmented Generation (RAG) systems. This notebook demonstrates how to build a simple yet powerful retrieval system that can search through documents and find relevant information based on user queries.\n",
    "\n",
    "### What are Retrievers?\n",
    "Retrievers are components in RAG systems that search through a document collection to find information relevant to a query. They serve as the \"memory\" for large language models, allowing them to access and reference specific information beyond their training data."
   ]
  },
  {
   "cell_type": "markdown",
   "id": "3111377a-e0c9-4d80-9744-a15f64f13355",
   "metadata": {},
   "source": [
    "### Step 1: Setting Up Our Environment"
   ]
  },
  {
   "cell_type": "code",
   "execution_count": 1,
   "id": "14008f80-c1ca-4006-9cfb-8cf88bc6346a",
   "metadata": {},
   "outputs": [],
   "source": [
    "from langchain_community.document_loaders import PyMuPDFLoader, TextLoader\n",
    "from langchain_community.vectorstores import FAISS\n",
    "from langchain_openai import OpenAIEmbeddings\n",
    "from langchain.text_splitter import RecursiveCharacterTextSplitter"
   ]
  },
  {
   "cell_type": "markdown",
   "id": "acd38747-5cba-4335-b17e-020b13b473e9",
   "metadata": {},
   "source": [
    "These imports give us access to:\n",
    "\n",
    "- Document loaders for different file types\n",
    "- FAISS for efficient similarity search\n",
    "- OpenAI's embedding model to convert text to vectors\n",
    "- Text splitters to break documents into manageable chunks"
   ]
  },
  {
   "cell_type": "markdown",
   "id": "2d29844c-9b44-47e8-ba9d-12c38f060ad5",
   "metadata": {},
   "source": [
    "### Step 2: The RAG Pipeline Overview"
   ]
  },
  {
   "cell_type": "code",
   "execution_count": 2,
   "id": "dd43fa53-e364-4228-97d5-3b302692a811",
   "metadata": {},
   "outputs": [],
   "source": [
    "# LOAD DOCUMENT --> SPLIT CHUNKS\n",
    "\n",
    "# EMBEDDING --> EMBED CHUNKS --> VECTORS\n",
    "\n",
    "# VECTOR CHUNKS -- SAVE DB\n",
    "\n",
    "# \"query\" --> similarity search faiss db"
   ]
  },
  {
   "cell_type": "markdown",
   "id": "1831cc08-e007-4e62-aeda-d521a2cd892b",
   "metadata": {},
   "source": [
    "This represents the typical workflow of a RAG system:\n",
    "\n",
    "1. Load documents and split into chunks\n",
    "2. Convert text chunks into vector embeddings\n",
    "3. Store these vectors in a database\n",
    "4. Perform similarity search when given a query"
   ]
  },
  {
   "cell_type": "markdown",
   "id": "555fd846-ed92-411a-ba31-d9ecad2bacf9",
   "metadata": {},
   "source": [
    "### Step 3: Loading and Chunking Documents"
   ]
  },
  {
   "cell_type": "code",
   "execution_count": 3,
   "id": "8d094002-8885-46c9-84b7-d3ab069ffcb5",
   "metadata": {},
   "outputs": [],
   "source": [
    "loader = TextLoader('../test.txt', encoding = 'UTF-8')\n",
    "documents = loader.load()\n",
    "text_splitter = RecursiveCharacterTextSplitter(\n",
    "        chunk_size=500,\n",
    "        chunk_overlap=100,\n",
    "        separators=[\"\\n\\n\", \"\\n\", \".\", \" \"]\n",
    "    )\n",
    "docs = text_splitter.split_documents(documents)"
   ]
  },
  {
   "cell_type": "markdown",
   "id": "a99a7187-8405-42ee-bc68-76b693a7ccbc",
   "metadata": {},
   "source": [
    "Here we:\n",
    "\n",
    "- Load a text document\n",
    "- Split it into smaller chunks of 500 characters\n",
    "- Use a 100-character overlap to maintain context between chunks\n",
    "- Define separators to ensure chunks break at natural boundaries"
   ]
  },
  {
   "cell_type": "code",
   "execution_count": 4,
   "id": "d8aca239-065b-4c61-a379-b5052a3d2a89",
   "metadata": {},
   "outputs": [],
   "source": [
    "# docs"
   ]
  },
  {
   "cell_type": "markdown",
   "id": "dc47290e-dbe5-4328-bcee-d49e1fb577db",
   "metadata": {},
   "source": [
    "### Step 4: Setting Up the Embedding Model"
   ]
  },
  {
   "cell_type": "code",
   "execution_count": 5,
   "id": "c5c3ac16-818f-48cf-ad7d-79f66d4bd9a2",
   "metadata": {},
   "outputs": [],
   "source": [
    "embedding_model = OpenAIEmbeddings()"
   ]
  },
  {
   "cell_type": "markdown",
   "id": "abfb5e03-4587-4bed-b7e4-578739f65c90",
   "metadata": {},
   "source": [
    "The embedding model transforms text into numerical vectors that capture semantic meaning, allowing our system to understand and compare text based on meaning rather than just keywords."
   ]
  },
  {
   "cell_type": "markdown",
   "id": "b75a069a-bf20-437f-844c-3376d39a7b93",
   "metadata": {},
   "source": [
    "### Step 5: Creating the Vector Database"
   ]
  },
  {
   "cell_type": "code",
   "execution_count": 6,
   "id": "b822f871-509b-4ba3-87e7-8006626b17c3",
   "metadata": {},
   "outputs": [],
   "source": [
    "vector_db = FAISS.from_documents(docs, embedding_model)"
   ]
  },
  {
   "cell_type": "markdown",
   "id": "65ef4761-e193-426a-b028-c9d148b27c3a",
   "metadata": {},
   "source": [
    "FAISS (Facebook AI Similarity Search) is a library for efficient similarity search. This code:\n",
    "\n",
    "- Takes our document chunks\n",
    "- Uses the embedding model to convert them to vectors\n",
    "- Creates a searchable database"
   ]
  },
  {
   "cell_type": "markdown",
   "id": "ab9ee1a1-7526-4915-98f1-0073865a0382",
   "metadata": {},
   "source": [
    "### Step 6: Saving Our Vector Database"
   ]
  },
  {
   "cell_type": "code",
   "execution_count": 7,
   "id": "a76dc8b0-5d84-41b6-a46a-054bbab7f4d6",
   "metadata": {},
   "outputs": [],
   "source": [
    "# https://python.langchain.com/docs/integrations/vectorstores/faiss/#saving-and-loading\n",
    "vector_db.save_local(\"faiss_index\")"
   ]
  },
  {
   "cell_type": "markdown",
   "id": "2b8090f9-a22b-439d-aacf-e2e9f7d4179f",
   "metadata": {},
   "source": [
    "This allows us to save our work and reuse the vector database without having to recreate it from scratch each time."
   ]
  },
  {
   "cell_type": "markdown",
   "id": "5c8c807d-8d30-4b32-832f-76ed2c8ae8cf",
   "metadata": {},
   "source": [
    "### Step 7: Loading a Previously Created Vector Database"
   ]
  },
  {
   "cell_type": "code",
   "execution_count": 8,
   "id": "fb1a7f33-d382-46bc-81be-f6d2b0394145",
   "metadata": {},
   "outputs": [],
   "source": [
    "new_vector_store = FAISS.load_local(\n",
    "    \"faiss_index\", embedding_model, allow_dangerous_deserialization=True\n",
    ")"
   ]
  },
  {
   "cell_type": "markdown",
   "id": "5584f281-7b84-48fd-b8a6-c17981f4bd38",
   "metadata": {},
   "source": [
    "This is where we'd typically pick up if we already have a prepared database."
   ]
  },
  {
   "cell_type": "markdown",
   "id": "92ffa7df-eb21-4276-be0f-cb1265a025ae",
   "metadata": {},
   "source": [
    "### Step 8: Creating a Retriever"
   ]
  },
  {
   "cell_type": "code",
   "execution_count": 27,
   "id": "2f2dff65-a568-4195-b6cd-fbcaa05ef8ce",
   "metadata": {},
   "outputs": [],
   "source": [
    "retriever = new_vector_store.as_retriever(\n",
    "    search_type=\"similarity\", \n",
    "    search_kwargs = {\"k\": 3}\n",
    ")"
   ]
  },
  {
   "cell_type": "code",
   "execution_count": 16,
   "id": "6a21b87b-edec-44c8-9232-a3378001ac41",
   "metadata": {},
   "outputs": [
    {
     "data": {
      "text/plain": [
       "[(Document(id='dbbfd0f3-a413-4d32-9f5f-a43cd8c7ff0f', metadata={'source': '../test.txt'}, page_content='Decorative Styles:\\nGeometric Style (900-700 BCE): Features abstract patterns and motifs.\\nBlack-Figure Technique (700-500 BCE): Figures are painted in black silhouette against the natural red clay.\\nRed-Figure Technique (530-300 BCE): The reverse of black-figure, allowing for greater detail and expression.\\nPainting\\nWhile few examples survive, Greek painting was highly esteemed, with influences seen in vase paintings and frescoes.\\nTechniques: Included fresco, encaustic, and tempera.'),\n",
       "  np.float32(0.26161647)),\n",
       " (Document(id='b3967691-beec-495d-bc51-276068f62ab5', metadata={'source': '../test.txt'}, page_content='Sculpture and Pottery\\nGreek sculptors excelled in creating lifelike statues that captured the human form with remarkable realism and beauty. Works such as the Venus de Milo and the Discobolus exemplify the Greek pursuit of idealized proportions and expressive detail. Pottery was another significant art form, featuring intricate designs and scenes from mythology and everyday life that provide valuable insights into Greek culture.\\nArchitectural Marvels'),\n",
       "  np.float32(0.27237347)),\n",
       " (Document(id='fc039af3-f625-41bf-aff8-230d6827ae9c', metadata={'source': '../test.txt'}, page_content='Techniques: Included fresco, encaustic, and tempera.\\nThemes: Mythological narratives, daily life, and natural landscapes.\\nArchitecture\\nGreek architecture is celebrated for its harmony, proportion, and grandeur, with enduring influences on Western architectural styles.\\nThe Three Orders: Doric, Ionic, and Corinthian, each with distinct column designs and decorative elements.\\nDoric Order: Simple, sturdy columns with plain capitals.\\nIonic Order: Slender columns with scroll-like capitals.'),\n",
       "  np.float32(0.29397735)),\n",
       " (Document(id='f1cbbe84-8176-44f8-aa79-910dced54622', metadata={'source': '../test.txt'}, page_content='The arts and culture of ancient Greece represent a vibrant and dynamic facet of its civilization, showcasing unparalleled creativity and intellectual rigor. From the timeless sculptures that capture the human form and spirit to the profound philosophical inquiries into existence and morality, Greek cultural achievements continue to inspire and inform contemporary society'),\n",
       "  np.float32(0.3052978))]"
      ]
     },
     "execution_count": 16,
     "metadata": {},
     "output_type": "execute_result"
    }
   ],
   "source": [
    "new_vector_store.similarity_search_with_score(query)"
   ]
  },
  {
   "cell_type": "code",
   "execution_count": 23,
   "id": "5c07a4b7-a649-4d4d-acec-cc54263583f7",
   "metadata": {},
   "outputs": [],
   "source": [
    "from typing import List\n",
    "\n",
    "from langchain_core.documents import Document\n",
    "from langchain_core.runnables import chain\n",
    "\n",
    "\n",
    "@chain\n",
    "def retriever(query: str) -> List[Document]:\n",
    "    docs, scores = zip(*new_vector_store.similarity_search_with_score(query))\n",
    "    for doc, score in zip(docs, scores):\n",
    "        doc.metadata[\"score\"] = score\n",
    "\n",
    "    return docs"
   ]
  },
  {
   "cell_type": "markdown",
   "id": "dee1585a-aa65-429b-935b-480d2497d68f",
   "metadata": {},
   "source": [
    "The retriever performs the actual search:\n",
    "\n",
    "- We're using similarity search (finding semantically similar content)\n",
    "- We're retrieving the top 3 most relevant chunks for each query"
   ]
  },
  {
   "cell_type": "markdown",
   "id": "86040f63-cd77-410f-a6d4-d6426c89bca1",
   "metadata": {},
   "source": [
    "### Step 9: Testing Our Retriever"
   ]
  },
  {
   "cell_type": "code",
   "execution_count": 29,
   "id": "6b8e1825-7bc4-43d4-81e2-b032f3e51941",
   "metadata": {},
   "outputs": [],
   "source": [
    "queries = [\n",
    "    \"Can you give some decorative styles in ancient Greek life?\",\n",
    "    \"Can you give the last United States election results?\"\n",
    "]\n",
    "\n",
    "query = queries[0]\n",
    "\n",
    "retrievals = retriever.invoke(query)"
   ]
  },
  {
   "cell_type": "markdown",
   "id": "504ed63d-cc48-4dd1-bcd0-98d3acbfd20c",
   "metadata": {},
   "source": [
    "Here we test our retriever with a query about ancient Greek decorative styles."
   ]
  },
  {
   "cell_type": "markdown",
   "id": "9cf1b29e-28f0-4461-bae7-9577c2ff97f8",
   "metadata": {},
   "source": [
    "### Step 10: Examining the Results"
   ]
  },
  {
   "cell_type": "code",
   "execution_count": 30,
   "id": "7beade0e-9b89-4b59-a627-b1cd30155867",
   "metadata": {},
   "outputs": [
    {
     "data": {
      "text/plain": [
       "[Document(id='dbbfd0f3-a413-4d32-9f5f-a43cd8c7ff0f', metadata={'source': '../test.txt', 'score': np.float32(0.26161647)}, page_content='Decorative Styles:\\nGeometric Style (900-700 BCE): Features abstract patterns and motifs.\\nBlack-Figure Technique (700-500 BCE): Figures are painted in black silhouette against the natural red clay.\\nRed-Figure Technique (530-300 BCE): The reverse of black-figure, allowing for greater detail and expression.\\nPainting\\nWhile few examples survive, Greek painting was highly esteemed, with influences seen in vase paintings and frescoes.\\nTechniques: Included fresco, encaustic, and tempera.'),\n",
       " Document(id='b3967691-beec-495d-bc51-276068f62ab5', metadata={'source': '../test.txt', 'score': np.float32(0.27237347)}, page_content='Sculpture and Pottery\\nGreek sculptors excelled in creating lifelike statues that captured the human form with remarkable realism and beauty. Works such as the Venus de Milo and the Discobolus exemplify the Greek pursuit of idealized proportions and expressive detail. Pottery was another significant art form, featuring intricate designs and scenes from mythology and everyday life that provide valuable insights into Greek culture.\\nArchitectural Marvels'),\n",
       " Document(id='fc039af3-f625-41bf-aff8-230d6827ae9c', metadata={'source': '../test.txt', 'score': np.float32(0.29397735)}, page_content='Techniques: Included fresco, encaustic, and tempera.\\nThemes: Mythological narratives, daily life, and natural landscapes.\\nArchitecture\\nGreek architecture is celebrated for its harmony, proportion, and grandeur, with enduring influences on Western architectural styles.\\nThe Three Orders: Doric, Ionic, and Corinthian, each with distinct column designs and decorative elements.\\nDoric Order: Simple, sturdy columns with plain capitals.\\nIonic Order: Slender columns with scroll-like capitals.')]"
      ]
     },
     "execution_count": 30,
     "metadata": {},
     "output_type": "execute_result"
    }
   ],
   "source": [
    "retrievals"
   ]
  },
  {
   "cell_type": "markdown",
   "id": "9b5374ef-3819-4a88-a63a-7fcdc3f6684e",
   "metadata": {},
   "source": [
    "This displays the top 3 most relevant document chunks from our database. Notice how they all relate to Greek decorative styles, even though they might not contain the exact wording of our query."
   ]
  },
  {
   "cell_type": "code",
   "execution_count": null,
   "id": "c82a25e9-3ebc-4cd7-aa33-f72d2530762e",
   "metadata": {},
   "outputs": [],
   "source": []
  },
  {
   "cell_type": "markdown",
   "id": "700d546c-6512-4592-89f3-85c9ea18f0aa",
   "metadata": {},
   "source": [
    "### Advanced Implementation: Complete RAG Pipeline"
   ]
  },
  {
   "cell_type": "code",
   "execution_count": null,
   "id": "0534ab42-85e1-4a51-ba93-7bd9b23f3e87",
   "metadata": {},
   "outputs": [],
   "source": [
    "response_schema = [\n",
    "    ResponseSchema(name=\"summary\", description=\"A concise summary of the wikipedia page\"),\n",
    "    ResponseSchema(name=\"key_points\", description=\"The key points relevant to the query\"),\n",
    "    ResponseSchema(name=\"wikipedia_reference\", description=\"Relevant information retrieved from Wikipedia\")\n",
    "]\n",
    "\n",
    "parser = StructuredOutputParser.from_response_schemas(response_schema)\n",
    "format_instructions = parser.get_format_instructions()\n",
    "\n",
    "context = \"\\n\".join([doc.page_content for doc in retrievals])\n",
    "\n",
    "prompt = PromptTemplate.from_template(\"\"\"\n",
    "You are an expert assistant. Based on the following context, generate a structured response:\n",
    "\n",
    "Context: {context}\n",
    "Wikipedia: {wiki_data}\n",
    "{format_instructions}\n",
    "\"\"\")"
   ]
  },
  {
   "cell_type": "code",
   "execution_count": null,
   "id": "11737d90-f018-4d2a-8265-1e07a37a72e0",
   "metadata": {},
   "outputs": [],
   "source": [
    "def load_and_chunk(file_path, chunk_size=500, chunk_overlap=100):\n",
    "    print(\"Loading and Splitting the PDF Document...\")\n",
    "\n",
    "    loader = PyMuPDFLoader(file_path)\n",
    "    documents = loader.load()\n",
    "\n",
    "    text_splitter = RecursiveCharacterTextSplitter(\n",
    "        chunk_size=chunk_size,\n",
    "        chunk_overlap=chunk_overlap,\n",
    "        separators=[\"\\n\\n\", \"\\n\", \".\", \" \"]\n",
    "    )\n",
    "\n",
    "    chunk = text_splitter.split_documents(documents)\n",
    "\n",
    "    print(f\"Number of chunks: {len(chunk)}\")\n",
    "    return chunk"
   ]
  },
  {
   "cell_type": "code",
   "execution_count": null,
   "id": "2652b068-1b56-46ec-8cc9-d37fec0453a0",
   "metadata": {},
   "outputs": [],
   "source": [
    "def create_vector_database(chunks):\n",
    "    print(\"Creating FAISS Index...\")\n",
    "    vector_db = FAISS.from_documents(chunks, embedding_model)\n",
    "    print(\"FAISS Index Created\")\n",
    "    return vector_db"
   ]
  },
  {
   "cell_type": "code",
   "execution_count": null,
   "id": "ddfa7863-efec-4e94-9e8e-6a767f1a7529",
   "metadata": {},
   "outputs": [],
   "source": [
    "print(\" Starting Complete RAG Demo \")\n",
    "\n",
    "file_path = \"../../ai-report.pdf\"\n",
    "chunks = load_and_chunk(file_path)\n",
    "vector_db = create_vector_database(chunks)\n",
    "\n",
    "queries = [\n",
    "    \"What examples of AI-driven solutions in tutoring are given?\"\n",
    "]\n",
    "\n",
    "query = queries[0]\n",
    "\n",
    "retriever = vector_db.as_retriever(\n",
    "    search_type=\"similarity\",\n",
    "    search_kwargs = {\"k\": 3}\n",
    ")\n",
    "\n",
    "retrievals = retriever.get_relevant_documents(query)"
   ]
  }
 ],
 "metadata": {
  "kernelspec": {
   "display_name": "Python 3 (ipykernel)",
   "language": "python",
   "name": "python3"
  },
  "language_info": {
   "codemirror_mode": {
    "name": "ipython",
    "version": 3
   },
   "file_extension": ".py",
   "mimetype": "text/x-python",
   "name": "python",
   "nbconvert_exporter": "python",
   "pygments_lexer": "ipython3",
   "version": "3.12.4"
  }
 },
 "nbformat": 4,
 "nbformat_minor": 5
}
