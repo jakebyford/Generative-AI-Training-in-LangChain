{
 "cells": [
  {
   "cell_type": "code",
   "execution_count": 1,
   "id": "14008f80-c1ca-4006-9cfb-8cf88bc6346a",
   "metadata": {},
   "outputs": [],
   "source": [
    "from langchain_community.document_loaders import PyMuPDFLoader, TextLoader\n",
    "from langchain_community.vectorstores import FAISS\n",
    "from langchain_openai import OpenAIEmbeddings\n",
    "from langchain.text_splitter import RecursiveCharacterTextSplitter"
   ]
  },
  {
   "cell_type": "code",
   "execution_count": null,
   "id": "dd43fa53-e364-4228-97d5-3b302692a811",
   "metadata": {},
   "outputs": [],
   "source": [
    "# LOAD DOCUMENT --> SPLIT CHUNKS\n",
    "\n",
    "# EMBEDDING --> EMBED CHUNKS --> VECTORS\n",
    "\n",
    "# VECTOR CHUNKS -- SAVE DB\n",
    "\n",
    "# \"query\" --> similarity search faiss db"
   ]
  },
  {
   "cell_type": "code",
   "execution_count": null,
   "id": "8d094002-8885-46c9-84b7-d3ab069ffcb5",
   "metadata": {},
   "outputs": [],
   "source": [
    "loader = TextLoader('../../test.txt', encoding = 'UTF-8')\n",
    "documents = loader.load()\n",
    "text_splitter = RecursiveCharacterTextSplitter(\n",
    "        chunk_size=500,\n",
    "        chunk_overlap=100,\n",
    "        separators=[\"\\n\\n\", \"\\n\", \".\", \" \"]\n",
    "    )\n",
    "docs = text_splitter.split_documents(documents)"
   ]
  },
  {
   "cell_type": "code",
   "execution_count": null,
   "id": "d8aca239-065b-4c61-a379-b5052a3d2a89",
   "metadata": {},
   "outputs": [],
   "source": [
    "# docs"
   ]
  },
  {
   "cell_type": "code",
   "execution_count": 3,
   "id": "c5c3ac16-818f-48cf-ad7d-79f66d4bd9a2",
   "metadata": {},
   "outputs": [],
   "source": [
    "embedding_model = OpenAIEmbeddings()"
   ]
  },
  {
   "cell_type": "code",
   "execution_count": null,
   "id": "b822f871-509b-4ba3-87e7-8006626b17c3",
   "metadata": {},
   "outputs": [],
   "source": [
    "vector_db = FAISS.from_documents(docs, embedding_model)"
   ]
  },
  {
   "cell_type": "code",
   "execution_count": null,
   "id": "a76dc8b0-5d84-41b6-a46a-054bbab7f4d6",
   "metadata": {},
   "outputs": [],
   "source": [
    "# https://python.langchain.com/docs/integrations/vectorstores/faiss/#saving-and-loading\n",
    "vector_db.save_local(\"faiss_index\")"
   ]
  },
  {
   "cell_type": "markdown",
   "id": "5c8c807d-8d30-4b32-832f-76ed2c8ae8cf",
   "metadata": {},
   "source": [
    "# Let's pick up where we left off"
   ]
  },
  {
   "cell_type": "code",
   "execution_count": 4,
   "id": "fb1a7f33-d382-46bc-81be-f6d2b0394145",
   "metadata": {},
   "outputs": [],
   "source": [
    "new_vector_store = FAISS.load_local(\n",
    "    \"faiss_index\", embedding_model, allow_dangerous_deserialization=True\n",
    ")"
   ]
  },
  {
   "cell_type": "code",
   "execution_count": 6,
   "id": "2f2dff65-a568-4195-b6cd-fbcaa05ef8ce",
   "metadata": {},
   "outputs": [],
   "source": [
    "retriever = new_vector_store.as_retriever(\n",
    "    search_type=\"similarity\", \n",
    "    search_kwargs = {\"k\": 3}\n",
    ")"
   ]
  },
  {
   "cell_type": "code",
   "execution_count": 7,
   "id": "6b8e1825-7bc4-43d4-81e2-b032f3e51941",
   "metadata": {},
   "outputs": [],
   "source": [
    "queries = [\n",
    "    \"Can you give some decorative styles in ancient Greek life?\"\n",
    "]\n",
    "\n",
    "query = queries[0]\n",
    "\n",
    "retrievals = retriever.invoke(query)"
   ]
  },
  {
   "cell_type": "code",
   "execution_count": 8,
   "id": "7beade0e-9b89-4b59-a627-b1cd30155867",
   "metadata": {},
   "outputs": [
    {
     "data": {
      "text/plain": [
       "[Document(id='c45950a0-2caa-4eca-9e50-d4391030aba8', metadata={'source': '../../test.txt'}, page_content='Decorative Styles:\\nGeometric Style (900-700 BCE): Features abstract patterns and motifs.\\nBlack-Figure Technique (700-500 BCE): Figures are painted in black silhouette against the natural red clay.\\nRed-Figure Technique (530-300 BCE): The reverse of black-figure, allowing for greater detail and expression.\\nPainting\\nWhile few examples survive, Greek painting was highly esteemed, with influences seen in vase paintings and frescoes.\\nTechniques: Included fresco, encaustic, and tempera.'),\n",
       " Document(id='0a9312c4-a098-4ebc-a162-95da52760517', metadata={'source': '../../test.txt'}, page_content='Sculpture and Pottery\\nGreek sculptors excelled in creating lifelike statues that captured the human form with remarkable realism and beauty. Works such as the Venus de Milo and the Discobolus exemplify the Greek pursuit of idealized proportions and expressive detail. Pottery was another significant art form, featuring intricate designs and scenes from mythology and everyday life that provide valuable insights into Greek culture.\\nArchitectural Marvels'),\n",
       " Document(id='b38aa084-a478-475e-8d57-84045b7d3cfc', metadata={'source': '../../test.txt'}, page_content='Techniques: Included fresco, encaustic, and tempera.\\nThemes: Mythological narratives, daily life, and natural landscapes.\\nArchitecture\\nGreek architecture is celebrated for its harmony, proportion, and grandeur, with enduring influences on Western architectural styles.\\nThe Three Orders: Doric, Ionic, and Corinthian, each with distinct column designs and decorative elements.\\nDoric Order: Simple, sturdy columns with plain capitals.\\nIonic Order: Slender columns with scroll-like capitals.')]"
      ]
     },
     "execution_count": 8,
     "metadata": {},
     "output_type": "execute_result"
    }
   ],
   "source": [
    "retrievals"
   ]
  },
  {
   "cell_type": "code",
   "execution_count": null,
   "id": "4f89ef32-23f1-4734-bb47-39ad956f8815",
   "metadata": {},
   "outputs": [],
   "source": []
  },
  {
   "cell_type": "code",
   "execution_count": null,
   "id": "9a993ab9-a6e6-444c-b2ef-417ee4fb9349",
   "metadata": {},
   "outputs": [],
   "source": []
  },
  {
   "cell_type": "code",
   "execution_count": null,
   "id": "0534ab42-85e1-4a51-ba93-7bd9b23f3e87",
   "metadata": {},
   "outputs": [],
   "source": [
    "response_schema = [\n",
    "    ResponseSchema(name=\"summary\", description=\"A concise summary of the wikipedia page\"),\n",
    "    ResponseSchema(name=\"key_points\", description=\"The key points relevant to the query\"),\n",
    "    ResponseSchema(name=\"wikipedia_reference\", description=\"Relevant information retrieved from Wikipedia\")\n",
    "]\n",
    "\n",
    "parser = StructuredOutputParser.from_response_schemas(response_schema)\n",
    "format_instructions = parser.get_format_instructions()\n",
    "\n",
    "context = \"\\n\".join([doc.page_content for doc in retrievals])\n",
    "\n",
    "prompt = PromptTemplate.from_template(\"\"\"\n",
    "You are an expert assistant. Based on the following context, generate a structured response:\n",
    "\n",
    "Context: {context}\n",
    "Wikipedia: {wiki_data}\n",
    "{format_instructions}\n",
    "\"\"\")"
   ]
  },
  {
   "cell_type": "code",
   "execution_count": null,
   "id": "11737d90-f018-4d2a-8265-1e07a37a72e0",
   "metadata": {},
   "outputs": [],
   "source": [
    "def load_and_chunk(file_path, chunk_size=500, chunk_overlap=100):\n",
    "    print(\"Loading and Splitting the PDF Document...\")\n",
    "\n",
    "    loader = PyMuPDFLoader(file_path)\n",
    "    documents = loader.load()\n",
    "\n",
    "    text_splitter = RecursiveCharacterTextSplitter(\n",
    "        chunk_size=chunk_size,\n",
    "        chunk_overlap=chunk_overlap,\n",
    "        separators=[\"\\n\\n\", \"\\n\", \".\", \" \"]\n",
    "    )\n",
    "\n",
    "    chunk = text_splitter.split_documents(documents)\n",
    "\n",
    "    print(f\"Number of chunks: {len(chunk)}\")\n",
    "    return chunk"
   ]
  },
  {
   "cell_type": "code",
   "execution_count": null,
   "id": "2652b068-1b56-46ec-8cc9-d37fec0453a0",
   "metadata": {},
   "outputs": [],
   "source": [
    "def create_vector_database(chunks):\n",
    "    print(\"Creating FAISS Index...\")\n",
    "    vector_db = FAISS.from_documents(chunks, embedding_model)\n",
    "    print(\"FAISS Index Created\")\n",
    "    return vector_db"
   ]
  },
  {
   "cell_type": "code",
   "execution_count": null,
   "id": "ddfa7863-efec-4e94-9e8e-6a767f1a7529",
   "metadata": {},
   "outputs": [],
   "source": [
    "print(\" Starting Complete RAG Demo \")\n",
    "\n",
    "file_path = \"../../ai-report.pdf\"\n",
    "chunks = load_and_chunk(file_path)\n",
    "vector_db = create_vector_database(chunks)\n",
    "\n",
    "queries = [\n",
    "    \"What examples of AI-driven solutions in tutoring are given?\"\n",
    "]\n",
    "\n",
    "query = queries[0]\n",
    "\n",
    "retriever = vector_db.as_retriever(\n",
    "    search_type=\"similarity\",\n",
    "    search_kwargs = {\"k\": 3}\n",
    ")\n",
    "\n",
    "retrievals = retriever.get_relevant_documents(query)"
   ]
  }
 ],
 "metadata": {
  "kernelspec": {
   "display_name": "Python 3 (ipykernel)",
   "language": "python",
   "name": "python3"
  },
  "language_info": {
   "codemirror_mode": {
    "name": "ipython",
    "version": 3
   },
   "file_extension": ".py",
   "mimetype": "text/x-python",
   "name": "python",
   "nbconvert_exporter": "python",
   "pygments_lexer": "ipython3",
   "version": "3.12.4"
  }
 },
 "nbformat": 4,
 "nbformat_minor": 5
}
