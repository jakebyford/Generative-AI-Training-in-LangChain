{
 "cells": [
  {
   "cell_type": "code",
   "execution_count": 1,
   "id": "47cbec70-ebff-4d2e-8188-6cc09ff24d56",
   "metadata": {},
   "outputs": [],
   "source": [
    "from langchain_core.messages import (\n",
    "    AIMessage,\n",
    "    HumanMessage,\n",
    "    SystemMessage,\n",
    "    filter_messages,\n",
    ")"
   ]
  },
  {
   "cell_type": "code",
   "execution_count": 2,
   "id": "4135c548-d087-44af-bb03-7655785a9718",
   "metadata": {},
   "outputs": [],
   "source": [
    "# Sample messages\n",
    "messages = [\n",
    "    SystemMessage(content=\"you are a good assistant\", id=\"1\"),\n",
    "    HumanMessage(content=\"example input\", id=\"2\", name=\"example_user\"),\n",
    "    AIMessage(content=\"example output\", id=\"3\", name=\"example_assistant\"),\n",
    "    HumanMessage(content=\"real input\", id=\"4\", name=\"bob\"),\n",
    "    AIMessage(content=\"real output\", id=\"5\", name=\"alice\"),\n",
    "]"
   ]
  },
  {
   "cell_type": "code",
   "execution_count": 3,
   "id": "7964c527-2f6b-4b5b-af7d-c64341da9b0b",
   "metadata": {},
   "outputs": [
    {
     "name": "stdout",
     "output_type": "stream",
     "text": [
      "Human messages: [HumanMessage(content='example input', additional_kwargs={}, response_metadata={}, name='example_user', id='2'), HumanMessage(content='real input', additional_kwargs={}, response_metadata={}, name='bob', id='4')]\n"
     ]
    }
   ],
   "source": [
    "# Filter for human messages\n",
    "human_messages = filter_messages(messages, include_types=\"human\")\n",
    "print(\"Human messages:\", human_messages)"
   ]
  },
  {
   "cell_type": "code",
   "execution_count": 4,
   "id": "c127587d-ec09-48ab-8054-86735efde5de",
   "metadata": {},
   "outputs": [
    {
     "name": "stdout",
     "output_type": "stream",
     "text": [
      "\n",
      "Excluding example names: [SystemMessage(content='you are a good assistant', additional_kwargs={}, response_metadata={}, id='1'), HumanMessage(content='real input', additional_kwargs={}, response_metadata={}, name='bob', id='4'), AIMessage(content='real output', additional_kwargs={}, response_metadata={}, name='alice', id='5')]\n"
     ]
    }
   ],
   "source": [
    "# Filter to exclude certain names\n",
    "excluded_names = filter_messages(\n",
    "    messages, exclude_names=[\"example_user\", \"example_assistant\"]\n",
    ")\n",
    "print(\"\\nExcluding example names:\", excluded_names)"
   ]
  },
  {
   "cell_type": "code",
   "execution_count": 5,
   "id": "d883ed25-bd80-4552-b296-b5758819a66c",
   "metadata": {},
   "outputs": [
    {
     "name": "stdout",
     "output_type": "stream",
     "text": [
      "\n",
      "Filtered by types and IDs: [HumanMessage(content='example input', additional_kwargs={}, response_metadata={}, name='example_user', id='2'), HumanMessage(content='real input', additional_kwargs={}, response_metadata={}, name='bob', id='4'), AIMessage(content='real output', additional_kwargs={}, response_metadata={}, name='alice', id='5')]\n"
     ]
    }
   ],
   "source": [
    "# Filter by types and IDs\n",
    "filtered_messages = filter_messages(\n",
    "    messages, include_types=[\"human\", \"ai\"], exclude_ids=[\"3\"]\n",
    ")\n",
    "print(\"\\nFiltered by types and IDs:\", filtered_messages)"
   ]
  },
  {
   "cell_type": "code",
   "execution_count": null,
   "id": "68abb62a-3c2f-4eb8-b2e3-d944ea0eac54",
   "metadata": {},
   "outputs": [],
   "source": [
    "# model = ChatOpenAI()\n",
    "\n",
    "# filter_ = filter_messages(exclude_names=[\"example_user\", \"example_assistant\"])\n",
    "\n",
    "# chain = filter_ | model"
   ]
  }
 ],
 "metadata": {
  "kernelspec": {
   "display_name": "Python 3 (ipykernel)",
   "language": "python",
   "name": "python3"
  },
  "language_info": {
   "codemirror_mode": {
    "name": "ipython",
    "version": 3
   },
   "file_extension": ".py",
   "mimetype": "text/x-python",
   "name": "python",
   "nbconvert_exporter": "python",
   "pygments_lexer": "ipython3",
   "version": "3.12.4"
  }
 },
 "nbformat": 4,
 "nbformat_minor": 5
}
