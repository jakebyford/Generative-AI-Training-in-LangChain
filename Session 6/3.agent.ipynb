{
 "cells": [
  {
   "cell_type": "markdown",
   "id": "5fc36e10",
   "metadata": {},
   "source": [
    "# **🕵️‍♂️ What is an Agent?**\n",
    "\n",
    "## Review\n",
    "\n",
    "We built a router.\n",
    "\n",
    "* Our chat model will decide to make a tool call or not based upon the user input\n",
    "* We use a conditional edge to route to a node that will call our tool or simply end\n",
    "\n",
    "![Screenshot 2024-08-21 at 12.44.33 PM.png](https://cdn.prod.website-files.com/65b8cd72835ceeacd4449a53/66dbac0ba0bd34b541c448cc_agent1.png)\n",
    "\n",
    "\n",
    "In **LangChain** and **LangGraph**, an **Agent** is an intelligent, goal-directed entity that can **decide which tools to use and in what order** to accomplish a task. Think of it as a reasoning system powered by a language model that:\n",
    "- Receives an input (e.g. a question),\n",
    "- Plans what to do (e.g. search, compute, call APIs),\n",
    "- Executes steps using tools,\n",
    "- And returns the final answer.\n",
    "\n",
    "### Key Characteristics of an Agent:\n",
    "1. **Tool-using**: Agents can call external tools (e.g. web search, calculator, databases).\n",
    "2. **Iterative**: Agents can take multiple steps, reasoning at each one.\n",
    "3. **Stateful**: In LangGraph, agents can maintain memory/state across steps.\n",
    "\n",
    "### 🧩 How It Works\n",
    "\n",
    "![Screenshot 2024-08-21 at 12.45.43 PM.png](https://substackcdn.com/image/fetch/f_auto,q_auto:good,fl_progressive:steep/https%3A%2F%2Fsubstack-post-media.s3.amazonaws.com%2Fpublic%2Fimages%2F6b27a8a7-8f67-4558-a3f4-44bf512e6c92_1766x812.gif)\n",
    "\n",
    "An agent is built on top of an LLM + a set of tools.\n",
    "\n",
    "At each step:\n",
    "- The LLM gets the task and current context.\n",
    "- It decides: *“I should use the calculator with input 4 + 5.”*\n",
    "- LangChain executes that tool.\n",
    "- The result is fed back into the LLM.\n",
    "- Repeat until it reaches a final answer.\n",
    "\n",
    "### ✅ When to Use Agents\n",
    "\n",
    "Use an agent when:\n",
    "- The task requires **decision-making** or **multiple steps**.\n",
    "- You don’t know ahead of time **which tools** or **what sequence** to use.\n",
    "- You want a more flexible, intelligent pipeline.\n",
    "\n",
    "### 🧪 Example\n",
    "\n",
    "Say you ask:\n",
    "\n",
    "> “What’s the weather in Paris, and what’s the square root of the current temperature?”\n",
    "\n",
    "An agent would:\n",
    "1. Use a weather API tool to get Paris temperature (e.g. 64°F).\n",
    "2. Use a calculator tool to compute √64.\n",
    "3. Return “The square root of 64°F is 8.”\n"
   ]
  },
  {
   "attachments": {},
   "cell_type": "markdown",
   "id": "98f5e36a-da49-4ae2-8c74-b910a2f992fc",
   "metadata": {},
   "source": [
    "\n",
    "\n",
    "\n",
    "## Goals\n",
    "\n",
    "Now, we can extend this into a generic agent architecture.\n",
    "\n",
    "In the above router, we invoked the model and, if it chose to call a tool, we returned a `ToolMessage` to the user.\n",
    " \n",
    "**But, what if we simply pass that `ToolMessage` *back to the model* ?**\n",
    "\n",
    "We can let it either \n",
    "1. call another tool \n",
    "2.  respond directly.\n",
    "\n",
    "This is the intuition behind **[ReAct](https://react-lm.github.io/), a general agent architecture.**\n",
    "  \n",
    "* `act` - let the model call specific tools \n",
    "* `observe` - pass the tool output back to the model \n",
    "* `reason` - let the model reason about the tool output to decide what to do next (e.g., call another tool or just respond directly)\n",
    "\n",
    "This [general purpose architecture](https://blog.langchain.dev/planning-for-agents/) can be applied to many types of tools. \n",
    "\n"
   ]
  },
  {
   "cell_type": "code",
   "execution_count": 1,
   "id": "63edff5a-724b-474d-9db8-37f0ae936c76",
   "metadata": {},
   "outputs": [],
   "source": [
    "%%capture --no-stderr\n",
    "%pip install --quiet -U langchain_openai langchain_core langgraph langgraph-prebuilt"
   ]
  },
  {
   "cell_type": "code",
   "execution_count": 2,
   "id": "5bee8063",
   "metadata": {},
   "outputs": [
    {
     "data": {
      "text/plain": [
       "'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'"
      ]
     },
     "execution_count": 2,
     "metadata": {},
     "output_type": "execute_result"
    }
   ],
   "source": [
    "import os\n",
    "\n",
    "# read api_key from file\n",
    "with open(r'C:\\Users\\Seyed Barabadi\\Downloads\\Gen AI\\Incedo Teaching/api_keys.txt', 'r') as file:\n",
    "    api_key = file.read()\n",
    "\n",
    "# Set loaded api_key as OPENAI_API_KEY environmental variable\n",
    "os.environ[\"OPENAI_API_KEY\"] = api_key\n",
    "api_key\n",
    "\n",
    "\n",
    "with open(r'C:\\Users\\Seyed Barabadi\\Downloads\\Gen AI\\Incedo Teaching/langsmith_api_key.txt', 'r') as file:\n",
    "    api_key = file.read()\n",
    "\n",
    "# Set loaded api_key as LANGSMITH_API_KEY environmental variable\n",
    "os.environ[\"LANGSMITH_API_KEY\"] = api_key\n",
    "api_key"
   ]
  },
  {
   "cell_type": "code",
   "execution_count": 3,
   "id": "356a6482",
   "metadata": {},
   "outputs": [],
   "source": [
    "import os, getpass\n",
    "\n",
    "def _set_env(var: str):\n",
    "    if not os.environ.get(var):\n",
    "        os.environ[var] = getpass.getpass(f\"{var}: \")\n",
    "\n"
   ]
  },
  {
   "cell_type": "markdown",
   "id": "dba35a12",
   "metadata": {},
   "source": [
    "Here, we'll use [LangSmith](https://docs.smith.langchain.com/) for [tracing](https://docs.smith.langchain.com/concepts/tracing).\n",
    "\n",
    "We'll log to a project, `langchain-academy`. "
   ]
  },
  {
   "cell_type": "code",
   "execution_count": 4,
   "id": "db2801a5",
   "metadata": {},
   "outputs": [],
   "source": [
    "_set_env(\"OPENAI_API_KEY\")\n",
    "_set_env(\"LANGSMITH_API_KEY\")"
   ]
  },
  {
   "cell_type": "code",
   "execution_count": 5,
   "id": "60e6f1eb",
   "metadata": {},
   "outputs": [],
   "source": [
    "# _set_env(\"LANGCHAIN_API_KEY\")\n",
    "os.environ[\"LANGCHAIN_TRACING_V2\"] = \"true\"\n",
    "os.environ[\"LANGCHAIN_PROJECT\"] = \"langchain-academy\""
   ]
  },
  {
   "cell_type": "markdown",
   "id": "edf6c3e9",
   "metadata": {},
   "source": [
    "### **🛠️Define Tools**"
   ]
  },
  {
   "cell_type": "code",
   "execution_count": 6,
   "id": "71795ff1-d6a7-448d-8b55-88bbd1ed3dbe",
   "metadata": {},
   "outputs": [],
   "source": [
    "from langchain_openai import ChatOpenAI\n",
    "\n",
    "\n",
    "# These are tools\n",
    "def multiply(a: int, b: int) -> int:\n",
    "    \"\"\"Multiply a and b.\n",
    "\n",
    "    Args:\n",
    "        a: first int\n",
    "        b: second int\n",
    "    \"\"\"\n",
    "    return a * b\n",
    "\n",
    "\n",
    "\n",
    "def add(a: int, b: int) -> int:\n",
    "    \"\"\"Adds a and b.\n",
    "\n",
    "    Args:\n",
    "        a: first int\n",
    "        b: second int\n",
    "    \"\"\"\n",
    "    return a + b\n",
    "\n",
    "\n",
    "def divide(a: int, b: int) -> float:\n",
    "    \"\"\"Divide a and b.\n",
    "\n",
    "    Args:\n",
    "        a: first int\n",
    "        b: second int\n",
    "    \"\"\"\n",
    "    return a / b\n",
    "\n",
    "\n",
    "\n",
    "tools = [add, multiply, divide]\n",
    "llm = ChatOpenAI(model=\"gpt-3.5-turbo\")\n",
    "\n",
    "# llm = ChatOpenAI(model=\"gpt-4o\")\n",
    "\n",
    "# For this ipynb we set parallel tool calling to false as math generally is done sequentially, and this time we have 3 tools that can do math\n",
    "# the OpenAI model specifically defaults to parallel tool calling for efficiency, see https://python.langchain.com/docs/how_to/tool_calling_parallel/\n",
    "# play around with it and see how the model behaves with math equations!\n",
    "llm_with_tools = llm.bind_tools(tools, parallel_tool_calls=False)\n",
    "\n",
    "llm_with_tools_parallel = llm.bind_tools(tools)"
   ]
  },
  {
   "cell_type": "markdown",
   "id": "a2cec014-3023-405c-be79-de8fc7adb346",
   "metadata": {},
   "source": [
    "Let's create our LLM and prompt it with the overall desired agent behavior."
   ]
  },
  {
   "cell_type": "markdown",
   "id": "34f486a8",
   "metadata": {},
   "source": [
    "### **👤Create Agent**"
   ]
  },
  {
   "cell_type": "code",
   "execution_count": 7,
   "id": "d061813f-ebc0-432c-91ec-3b42b15c30b6",
   "metadata": {},
   "outputs": [],
   "source": [
    "from langgraph.graph import MessagesState\n",
    "from langchain_core.messages import HumanMessage, SystemMessage\n",
    "\n",
    "# System message\n",
    "sys_msg = SystemMessage(content=\"You are a helpful assistant tasked with performing arithmetic on a set of inputs.\")\n",
    "\n",
    "# Node\n",
    "def assistant(state: MessagesState): # This assistant Node works as an Agent\n",
    "   return {\"messages\": [llm_with_tools.invoke([sys_msg] + state[\"messages\"])]}\n",
    "   # return {\"messages\": [llm_with_tools_parallel.invoke([sys_msg] + state[\"messages\"])]}"
   ]
  },
  {
   "cell_type": "markdown",
   "id": "4eb43343-9a6f-42cb-86e6-4380f928633c",
   "metadata": {},
   "source": [
    "As before, we use `MessagesState` and define a `Tools` node with our list of tools.\n",
    "\n",
    "The `Assistant` node is just our model with bound tools.\n",
    "\n",
    "We create a graph with `Assistant` and `Tools` nodes.\n",
    "\n",
    "We add `tools_condition` edge, which routes to `End` or to `Tools` based on  whether the `Assistant` calls a tool.\n",
    "\n",
    "Now, we add one new step:\n",
    "\n",
    "We connect the `Tools` node *back* to the `Assistant`, forming a loop.\n",
    "\n",
    "* After the `assistant` node executes, `tools_condition` checks if the model's output is a tool call.\n",
    "* If it is a tool call, the flow is directed to the `tools` node.\n",
    "* The `tools` node connects back to `assistant`.\n",
    "* This loop continues as long as the model decides to call tools.\n",
    "* If the model response is not a tool call, the flow is directed to END, terminating the process."
   ]
  },
  {
   "cell_type": "markdown",
   "id": "4362f636",
   "metadata": {},
   "source": [
    "### **🌐Build The Graph**"
   ]
  },
  {
   "cell_type": "code",
   "execution_count": 8,
   "id": "aef13cd4-05a6-4084-a620-2e7b91d9a72f",
   "metadata": {},
   "outputs": [
    {
     "data": {
      "image/png": "[encoded data removed]",
      "text/plain": [
       "<IPython.core.display.Image object>"
      ]
     },
     "metadata": {},
     "output_type": "display_data"
    }
   ],
   "source": [
    "from langgraph.graph import START, StateGraph\n",
    "from langgraph.prebuilt import tools_condition\n",
    "from langgraph.prebuilt import ToolNode\n",
    "from IPython.display import Image, display\n",
    "\n",
    "# Graph\n",
    "builder = StateGraph(MessagesState)\n",
    "\n",
    "# Define Nodes: these do the work\n",
    "builder.add_node(\"assistant\", assistant)\n",
    "builder.add_node(\"tools\", ToolNode(tools))\n",
    "\n",
    "\n",
    "# Define Edges: these determine how the control flow moves\n",
    "builder.add_edge(START, \"assistant\")\n",
    "builder.add_conditional_edges(\n",
    "    \"assistant\",\n",
    "    # If the latest message (result) from assistant is a tool call -> tools_condition routes to tools\n",
    "    # If the latest message (result) from assistant is a not a tool call -> tools_condition routes to END\n",
    "    tools_condition,\n",
    ")\n",
    "builder.add_edge(\"tools\", \"assistant\")\n",
    "\n",
    "\n",
    "react_graph = builder.compile()\n",
    "\n",
    "# Show\n",
    "display(Image(react_graph.get_graph(xray=True).draw_mermaid_png()))"
   ]
  },
  {
   "cell_type": "code",
   "execution_count": 9,
   "id": "75602459-d8ca-47b4-9518-3f38343ebfe4",
   "metadata": {},
   "outputs": [],
   "source": [
    "# messages = [HumanMessage(content=\"Add 3 and 4. Multiply the output by 2. Divide the output by 5\")]\n",
    "\n",
    "messages = [HumanMessage(content=\"Add 3 and 4, then Multiply it by 2 and divide the result by 5\")]\n",
    "messages = react_graph.invoke({\"messages\": messages})"
   ]
  },
  {
   "cell_type": "code",
   "execution_count": 10,
   "id": "b517142d-c40c-48bf-a5b8-c8409427aa79",
   "metadata": {},
   "outputs": [
    {
     "name": "stdout",
     "output_type": "stream",
     "text": [
      "================================\u001b[1m Human Message \u001b[0m=================================\n",
      "\n",
      "Add 3 and 4, then Multiply it by 2 and divide the result by 5\n",
      "==================================\u001b[1m Ai Message \u001b[0m==================================\n",
      "Tool Calls:\n",
      "  add (call_fk9UAyBBytEpZ2RT7qTqXkhN)\n",
      " Call ID: call_fk9UAyBBytEpZ2RT7qTqXkhN\n",
      "  Args:\n",
      "    a: 3\n",
      "    b: 4\n",
      "=================================\u001b[1m Tool Message \u001b[0m=================================\n",
      "Name: add\n",
      "\n",
      "7\n",
      "==================================\u001b[1m Ai Message \u001b[0m==================================\n",
      "Tool Calls:\n",
      "  multiply (call_v6gemmFnpEHSwSkGxFNETPOK)\n",
      " Call ID: call_v6gemmFnpEHSwSkGxFNETPOK\n",
      "  Args:\n",
      "    a: 7\n",
      "    b: 2\n",
      "=================================\u001b[1m Tool Message \u001b[0m=================================\n",
      "Name: multiply\n",
      "\n",
      "14\n",
      "==================================\u001b[1m Ai Message \u001b[0m==================================\n",
      "Tool Calls:\n",
      "  divide (call_E118KKWxSrSQ3faOm4vEz5Cx)\n",
      " Call ID: call_E118KKWxSrSQ3faOm4vEz5Cx\n",
      "  Args:\n",
      "    a: 14\n",
      "    b: 5\n",
      "=================================\u001b[1m Tool Message \u001b[0m=================================\n",
      "Name: divide\n",
      "\n",
      "2.8\n",
      "==================================\u001b[1m Ai Message \u001b[0m==================================\n",
      "\n",
      "The result of adding 3 and 4, then multiplying it by 2, and finally dividing the result by 5 is 2.8.\n"
     ]
    }
   ],
   "source": [
    "for m in messages['messages']:\n",
    "    m.pretty_print()"
   ]
  },
  {
   "cell_type": "markdown",
   "id": "3bf74e6a",
   "metadata": {},
   "source": [
    "## **🧠💪Reasoning**\n",
    "- Using `\"gpt-4o\"` instead of `\"gpt-3.5-turbo\"` as the model brain can drastically enhance the resoning ability of the model"
   ]
  },
  {
   "cell_type": "code",
   "execution_count": 11,
   "id": "d05c3d34",
   "metadata": {},
   "outputs": [],
   "source": [
    "llm = ChatOpenAI(model=\"gpt-4o\")\n",
    "\n",
    "# For this ipynb we set parallel tool calling to false as math generally is done sequentially, and this time we have 3 tools that can do math\n",
    "# the OpenAI model specifically defaults to parallel tool calling for efficiency, see https://python.langchain.com/docs/how_to/tool_calling_parallel/\n",
    "# play around with it and see how the model behaves with math equations!\n",
    "llm_with_tools_gpt_4 = llm.bind_tools(tools, parallel_tool_calls=False)\n",
    "\n",
    "\n",
    "# System message\n",
    "sys_msg = SystemMessage(content=\"You are a helpful assistant tasked with performing arithmetic on a set of inputs.\")\n",
    "\n",
    "# Node\n",
    "def assistant(state: MessagesState): # This assistant Node works as an Agent\n",
    "   return {\"messages\": [llm_with_tools_gpt_4.invoke([sys_msg] + state[\"messages\"])]}\n",
    "   # return {\"messages\": [llm_with_tools_parallel.invoke([sys_msg] + state[\"messages\"])]\n",
    "\n",
    "\n",
    "# Graph\n",
    "builder = StateGraph(MessagesState)\n",
    "\n",
    "# Define Nodes: these do the work\n",
    "builder.add_node(\"assistant\", assistant)\n",
    "builder.add_node(\"tools\", ToolNode(tools))\n",
    "\n",
    "\n",
    "# Define Edges: these determine how the control flow moves\n",
    "builder.add_edge(START, \"assistant\")\n",
    "builder.add_conditional_edges(\n",
    "    \"assistant\",\n",
    "    # If the latest message (result) from assistant is a tool call -> tools_condition routes to tools\n",
    "    # If the latest message (result) from assistant is a not a tool call -> tools_condition routes to END\n",
    "    tools_condition,\n",
    ")\n",
    "builder.add_edge(\"tools\", \"assistant\")\n",
    "\n",
    "\n",
    "react_graph = builder.compile()\n"
   ]
  },
  {
   "cell_type": "code",
   "execution_count": 12,
   "id": "3bd42233",
   "metadata": {},
   "outputs": [
    {
     "name": "stdout",
     "output_type": "stream",
     "text": [
      "================================\u001b[1m Human Message \u001b[0m=================================\n",
      "\n",
      "Find the average of 8 and 6\n",
      "==================================\u001b[1m Ai Message \u001b[0m==================================\n",
      "\n",
      "To find the average of two numbers, you add them together and divide the sum by 2.\n",
      "\n",
      "Let's calculate:\n",
      "\n",
      "1. Add the numbers: \\(8 + 6 = 14\\).\n",
      "2. Divide the sum by 2: \\(\\frac{14}{2} = 7\\).\n",
      "\n",
      "So, the average of 8 and 6 is 7.\n"
     ]
    }
   ],
   "source": [
    "messages = [HumanMessage(content=\"Find the average of 8 and 6\")]\n",
    "messages = react_graph.invoke({\"messages\": messages})\n",
    "\n",
    "for m in messages['messages']:\n",
    "    m.pretty_print()"
   ]
  },
  {
   "cell_type": "markdown",
   "id": "ad869f22-9bfb-4cbe-9f30-8a307c5cdda2",
   "metadata": {},
   "source": [
    "## LangSmith\n",
    "\n",
    "We can look at traces in LangSmith at https://www.langchain.com/langsmith"
   ]
  },
  {
   "cell_type": "markdown",
   "id": "7663b179",
   "metadata": {},
   "source": [
    "## **Example**\n"
   ]
  },
  {
   "cell_type": "markdown",
   "id": "0acd7eef",
   "metadata": {},
   "source": [
    "`%pip install --upgrade --quiet langchain-community`"
   ]
  },
  {
   "cell_type": "markdown",
   "id": "708c3699",
   "metadata": {},
   "source": [
    "## **Brave Search**\n",
    "- https://python.langchain.com/docs/integrations/tools/brave_search/\n",
    "- https://brave.com/search/api/"
   ]
  },
  {
   "cell_type": "code",
   "execution_count": 13,
   "id": "ad03fdd7",
   "metadata": {},
   "outputs": [],
   "source": [
    "from langchain_community.tools import BraveSearch\n",
    "\n",
    "api_key = \"BSATADsn2zgJtIVoYHaMWM9Tx4k1qW8\""
   ]
  },
  {
   "cell_type": "code",
   "execution_count": 14,
   "id": "e64289b8",
   "metadata": {},
   "outputs": [],
   "source": [
    "tool = BraveSearch.from_api_key(api_key=api_key, search_kwargs={\"count\": 1})\n",
    "\n",
    "# or if you want to get the api key from environment variable BRAVE_SEARCH_API_KEY, and leave search_kwargs empty\n",
    "# tool = BraveSearch()\n",
    "\n",
    "# or if you want to provide just the api key, and leave search_kwargs empty\n",
    "# tool = BraveSearch.from_api_key(api_key=api_key)\n",
    "\n",
    "# or if you want to provide just the search_kwargs and read the api key from the BRAVE_SEARCH_API_KEY environment variable\n",
    "# tool = BraveSearch.from_search_kwargs(search_kwargs={\"count\": 3})"
   ]
  },
  {
   "cell_type": "code",
   "execution_count": 15,
   "id": "c506c96c",
   "metadata": {},
   "outputs": [
    {
     "data": {
      "text/plain": [
       "'[{\"title\": \"Obama\\\\u2019s Middle Name \\\\u2014 My Last Name \\\\u2014 is \\\\u2018Hussein.\\\\u2019 So?\", \"link\": \"https://www.cair.com/cair_in_the_news/obamas-middle-name-my-last-name-is-hussein-so/\", \"snippet\": \"I was. Granted, it was only a school play, and I spell my name \\\\u201c<strong>Hussain</strong>.\\\\u201d But I thought I did a pretty good job as the commander in chief, even if my wardrobe consisted of an old tweed jacket from Sears.\"}]'"
      ]
     },
     "execution_count": 15,
     "metadata": {},
     "output_type": "execute_result"
    }
   ],
   "source": [
    "obama_result = tool.invoke(\"obama middle name\")\n",
    "obama_result"
   ]
  },
  {
   "cell_type": "code",
   "execution_count": 16,
   "id": "e2860d6d",
   "metadata": {},
   "outputs": [
    {
     "name": "stdout",
     "output_type": "stream",
     "text": [
      "Title: Obama’s Middle Name — My Last Name — is ‘Hussein.’ So?\n"
     ]
    }
   ],
   "source": [
    "import json\n",
    "\n",
    "# Step 1: Convert string to Python list\n",
    "parsed_result = json.loads(obama_result)\n",
    "\n",
    "# Step 2: Now you can access like a list of dicts\n",
    "Obama_title = parsed_result[0][\"title\"]\n",
    "Obama_link = parsed_result[0][\"link\"]\n",
    "Obama_snippet = parsed_result[0][\"snippet\"]\n",
    "print(\"Title:\", Obama_title)\n"
   ]
  },
  {
   "cell_type": "code",
   "execution_count": 17,
   "id": "31425252",
   "metadata": {},
   "outputs": [],
   "source": [
    "import re\n",
    "\n",
    "def clean_snippet(search_result: str) -> str:\n",
    "    \"\"\"\n",
    "    Cleans a search result snippet by:\n",
    "    - Removing HTML tags (e.g., <strong>, <br>, etc.)\n",
    "    - Removing line breaks\n",
    "    - Stripping extra whitespace\n",
    "    \"\"\"\n",
    "    # Step 1: Convert string to Python list\n",
    "    parsed_result = json.loads(search_result)\n",
    "\n",
    "    # Step 2: Now you can access like a list of dicts\n",
    "    title = parsed_result[0][\"title\"]\n",
    "    link = parsed_result[0][\"link\"]\n",
    "    snippet = parsed_result[0][\"snippet\"]\n",
    "\n",
    "    cleaned_output = {}\n",
    "\n",
    "   \n",
    "    for k, v in parsed_result[0].items():\n",
    "         # Remove HTML tags\n",
    "        no_html = re.sub(r\"<.*?>\", \"\", v)\n",
    "\n",
    "        # Replace multiple spaces or newlines with a single space\n",
    "        cleaned = re.sub(r\"\\s+\", \" \", no_html)\n",
    "\n",
    "        cleaned_output[k] = cleaned.strip()\n",
    "\n",
    "    return cleaned_output\n"
   ]
  },
  {
   "cell_type": "code",
   "execution_count": 18,
   "id": "c13215cd",
   "metadata": {},
   "outputs": [
    {
     "data": {
      "text/plain": [
       "{'title': 'Obama’s Middle Name — My Last Name — is ‘Hussein.’ So?',\n",
       " 'link': 'https://www.cair.com/cair_in_the_news/obamas-middle-name-my-last-name-is-hussein-so/',\n",
       " 'snippet': 'I was. Granted, it was only a school play, and I spell my name “Hussain.” But I thought I did a pretty good job as the commander in chief, even if my wardrobe consisted of an old tweed jacket from Sears.'}"
      ]
     },
     "execution_count": 18,
     "metadata": {},
     "output_type": "execute_result"
    }
   ],
   "source": [
    "\n",
    "cleaned_output = clean_snippet(obama_result)\n",
    "cleaned_output"
   ]
  },
  {
   "cell_type": "code",
   "execution_count": 19,
   "id": "ae5d5614",
   "metadata": {},
   "outputs": [],
   "source": [
    "bp_result = tool.invoke(\"How old is Brad Pitt?\")"
   ]
  },
  {
   "cell_type": "code",
   "execution_count": 20,
   "id": "bbd6f7a2",
   "metadata": {},
   "outputs": [
    {
     "data": {
      "text/plain": [
       "{'title': 'Brad Pitt - Wikipedia',\n",
       " 'link': 'https://en.wikipedia.org/wiki/Brad_Pitt',\n",
       " 'snippet': 'William Bradley Pitt (born December 18, 1963) is an American actor and film producer. He is the recipient of various accolades, including two Academy Awards, two British Academy Film Awards, two Golden Globe Awards, and a Primetime Emmy Award. One of the most influential celebrities, Pitt appeared ...'}"
      ]
     },
     "execution_count": 20,
     "metadata": {},
     "output_type": "execute_result"
    }
   ],
   "source": [
    "clean_snippet(bp_result)"
   ]
  },
  {
   "cell_type": "markdown",
   "id": "24dcacc0",
   "metadata": {},
   "source": [
    "## **Tools**"
   ]
  },
  {
   "cell_type": "code",
   "execution_count": 21,
   "id": "dd4c9e68",
   "metadata": {},
   "outputs": [],
   "source": [
    "# define functions needed to create llm_with_tools\n",
    "def add(a: float, b: float) -> float:\n",
    "    \"\"\"\n",
    "    add a to b and return the result\n",
    "    \"\"\"\n",
    "    return a + b\n",
    "\n",
    "\n",
    "\n",
    "def multiply(a: float, b: float) -> float:\n",
    "    \"\"\"\n",
    "    multiply a to b and return the result\n",
    "    \"\"\"\n",
    "    return a * b\n",
    "\n",
    "\n",
    "float\n",
    "def divide(a: float, b: float) ->float:\n",
    "    \"\"\"\n",
    "    divide a to b and return the result\n",
    "    \"\"\"\n",
    "    return a / b\n"
   ]
  },
  {
   "cell_type": "markdown",
   "id": "0a1e478b",
   "metadata": {},
   "source": [
    "## **Nodes**"
   ]
  },
  {
   "cell_type": "code",
   "execution_count": 22,
   "id": "d4d001fc",
   "metadata": {},
   "outputs": [],
   "source": [
    "from langchain_community.tools import BraveSearch\n",
    "\n",
    "# define serach functions needed to create llm_with_tools and Search node\n",
    "api_key = \"BSATADsn2zgJtIVoYHaMWM9Tx4k1qW8\"\n",
    "search_tool = BraveSearch.from_api_key(api_key=api_key, search_kwargs={\"count\": 1})\n"
   ]
  },
  {
   "cell_type": "code",
   "execution_count": 23,
   "id": "5c4a44d2",
   "metadata": {},
   "outputs": [],
   "source": [
    "from langchain_openai import ChatOpenAI\n",
    "\n",
    "\n",
    "llm = ChatOpenAI(model=\"gpt-4o\")"
   ]
  },
  {
   "cell_type": "code",
   "execution_count": 24,
   "id": "5f237113",
   "metadata": {},
   "outputs": [],
   "source": [
    "from langgraph.prebuilt import ToolNode\n",
    "\n",
    "# Define Tools\n",
    "tools = [add, multiply, divide, search_tool]\n",
    "\n",
    "\n",
    "# Bind tools with llm\n",
    "llm_with_tools = llm.bind_tools(tools)\n",
    "\n",
    "\n",
    "# define Tool node\n",
    "tools = ToolNode(tools)"
   ]
  },
  {
   "cell_type": "code",
   "execution_count": 25,
   "id": "805c8e16",
   "metadata": {},
   "outputs": [],
   "source": [
    "# define reasoner node\n",
    "\n",
    "from langgraph.graph import MessagesState\n",
    "from langchain_core.messages import HumanMessage, SystemMessage\n",
    "\n",
    "\n",
    "reasoner_system_message = SystemMessage(content=\"You are a helpful assistant tasked with using search and performing arithmetic on a set of inputs.\")\n",
    "\n",
    "\n",
    "def reasoner(state: MessagesState) :\n",
    "    return {'messages': [llm_with_tools.invoke([reasoner_system_message] + state['messages'])]}\n",
    "\n"
   ]
  },
  {
   "cell_type": "markdown",
   "id": "bd7e9f4f",
   "metadata": {},
   "source": [
    "## **Build the Graph**"
   ]
  },
  {
   "cell_type": "code",
   "execution_count": 36,
   "id": "016df915",
   "metadata": {},
   "outputs": [],
   "source": [
    "# Create the grpah\n",
    "from langgraph.graph import START, StateGraph\n",
    "from langgraph.prebuilt import tools_condition # this is the checker for the if you got a tool back\n",
    "from IPython.display import Image, display\n",
    "\n",
    "\n",
    "builder = StateGraph(MessagesState)\n",
    "\n",
    "builder.add_node(\"reasoner\", reasoner)\n",
    "builder.add_node(\"tools\", tools)\n",
    "\n",
    "builder.add_edge(START, \"reasoner\")\n",
    "builder.add_conditional_edges(\"reasoner\", tools_condition)\n",
    "builder.add_edge(\"tools\", \"reasoner\")\n",
    "\n",
    "\n",
    "react_graph = builder.compile()\n",
    "\n",
    "# Display the graph\n",
    "# display(Image(react_graph.get_graph(xray=True).draw_mermaid_png()))"
   ]
  },
  {
   "cell_type": "code",
   "execution_count": 37,
   "id": "63f3f0ec",
   "metadata": {},
   "outputs": [],
   "source": [
    "\n",
    "messages = react_graph.invoke({\"messages\": HumanMessage(content=\"What is 2 times Brad Pitt's age?\")})"
   ]
  },
  {
   "cell_type": "code",
   "execution_count": 38,
   "id": "6dfbf92d",
   "metadata": {},
   "outputs": [
    {
     "name": "stdout",
     "output_type": "stream",
     "text": [
      "================================\u001b[1m Human Message \u001b[0m=================================\n",
      "\n",
      "What is 2 times Brad Pitt's age?\n",
      "==================================\u001b[1m Ai Message \u001b[0m==================================\n",
      "Tool Calls:\n",
      "  brave_search (call_OV8Iiqo5QuBDSpS06zUQ3FpA)\n",
      " Call ID: call_OV8Iiqo5QuBDSpS06zUQ3FpA\n",
      "  Args:\n",
      "    query: Brad Pitt age 2023\n",
      "=================================\u001b[1m Tool Message \u001b[0m=================================\n",
      "Name: brave_search\n",
      "\n",
      "[{\"title\": \"Brad Pitt - Wikipedia\", \"link\": \"https://en.wikipedia.org/wiki/Brad_Pitt\", \"snippet\": \"William Bradley Pitt (<strong>born December 18, 1963</strong>) is an American actor and film producer. He is the recipient of various accolades, including two Academy Awards, two British Academy Film Awards, two Golden Globe Awards, and a Primetime Emmy Award. One of the most influential celebrities, Pitt appeared ...\"}]\n",
      "==================================\u001b[1m Ai Message \u001b[0m==================================\n",
      "\n",
      "Brad Pitt was born on December 18, 1963. As of 2023, he is 59 years old. Let's calculate 2 times his age.\n",
      "Tool Calls:\n",
      "  multiply (call_wN5CZGCmMgTks7IZqhaQDjVd)\n",
      " Call ID: call_wN5CZGCmMgTks7IZqhaQDjVd\n",
      "  Args:\n",
      "    a: 2\n",
      "    b: 59\n",
      "=================================\u001b[1m Tool Message \u001b[0m=================================\n",
      "Name: multiply\n",
      "\n",
      "118.0\n",
      "==================================\u001b[1m Ai Message \u001b[0m==================================\n",
      "\n",
      "2 times Brad Pitt's age is 118.\n"
     ]
    }
   ],
   "source": [
    "for m in messages['messages']:\n",
    "    m.pretty_print()"
   ]
  },
  {
   "cell_type": "markdown",
   "id": "0131c65c",
   "metadata": {},
   "source": [
    "## **Let's create our own custom `StateGraph`**"
   ]
  },
  {
   "cell_type": "markdown",
   "id": "ba43d045",
   "metadata": {},
   "source": [
    "`%pip install yfinance`"
   ]
  },
  {
   "cell_type": "code",
   "execution_count": 39,
   "id": "bcc41bef",
   "metadata": {},
   "outputs": [],
   "source": [
    "import yfinance as yf\n",
    "\n",
    "def get_stock_price(ticker: str) -> float:\n",
    "    \"\"\"Gets a stock price from Yahoo Finance.\n",
    "\n",
    "    Args:\n",
    "        ticker: ticker str\n",
    "    \"\"\"\n",
    "    # \"\"\"This is a tool for getting the price of a stock when passed a ticker symbol\"\"\"\n",
    "    stock = yf.Ticker(ticker)\n",
    "    return stock.info['previousClose']"
   ]
  },
  {
   "cell_type": "code",
   "execution_count": 40,
   "id": "16a3cb06",
   "metadata": {},
   "outputs": [
    {
     "data": {
      "text/plain": [
       "202.52"
      ]
     },
     "execution_count": 40,
     "metadata": {},
     "output_type": "execute_result"
    }
   ],
   "source": [
    "get_stock_price(\"AAPL\")"
   ]
  },
  {
   "cell_type": "code",
   "execution_count": 41,
   "id": "51ba4eb2",
   "metadata": {},
   "outputs": [],
   "source": [
    "from typing import Annotated, TypedDict\n",
    "import operator\n",
    "from langchain_core.messages import AnyMessage\n",
    "from langgraph.graph.message import add_messages\n",
    "\n",
    "\n",
    "class GraphState(TypedDict):\n",
    "    query: str\n",
    "    finance: str\n",
    "    final_answer: str\n",
    "    messages: Annotated[list[AnyMessage], add_messages]\n",
    "\n",
    "# Or\n",
    "\n",
    "\n",
    "class GraphState(MessagesState):\n",
    "    query: str\n",
    "    finance: str\n",
    "    final_answer: str"
   ]
  },
  {
   "cell_type": "code",
   "execution_count": 42,
   "id": "e249bcdb",
   "metadata": {},
   "outputs": [],
   "source": [
    "tools = [add, multiply, divide, search_tool, get_stock_price]\n",
    "\n",
    "\n",
    "tool_node = ToolNode(tools)"
   ]
  },
  {
   "cell_type": "code",
   "execution_count": 43,
   "id": "9a6f000d",
   "metadata": {},
   "outputs": [],
   "source": [
    "llm = ChatOpenAI(model=\"gpt-4o\")\n",
    "llm_with_tools = llm.bind_tools(tools)\n",
    "\n",
    "\n",
    "def reasoner(state: GraphState)-> GraphState:\n",
    "    sys_msg = SystemMessage(content=\"You are a helpful assistant tasked with using search, the yahoo finance tool and performing arithmetic on a set of inputs.\")\n",
    "    user_query_msg = HumanMessage(content=state['query']) \n",
    "\n",
    "    all_input_messages = [  # includes all the inputs for LLM call\n",
    "                          sys_msg,\n",
    "                          *state[\"messages\"], # *state[\"messages\"] is empty initillay\n",
    "                          user_query_msg\n",
    "                          ] \n",
    "    \n",
    "    result = llm_with_tools.invoke(all_input_messages)\n",
    "    \n",
    "    return {'messages': [result] }\n",
    "\n"
   ]
  },
  {
   "cell_type": "code",
   "execution_count": 44,
   "id": "e47fa9bb",
   "metadata": {},
   "outputs": [],
   "source": [
    "builder = StateGraph(GraphState)\n",
    "\n",
    "builder.add_node('tools', tool_node)\n",
    "builder.add_node('reasoner', reasoner)\n",
    "\n",
    "builder.add_edge(START, \"reasoner\")\n",
    "builder.add_conditional_edges(\"reasoner\", tools_condition)\n",
    "builder.add_edge(\"tools\", \"reasoner\")\n",
    "\n",
    "react_graph = builder.compile()\n",
    "\n",
    "# Show\n",
    "# display(Image(react_graph.get_graph(xray=True).draw_mermaid_png()))"
   ]
  },
  {
   "cell_type": "code",
   "execution_count": 45,
   "id": "7432a839",
   "metadata": {},
   "outputs": [
    {
     "name": "stdout",
     "output_type": "stream",
     "text": [
      "==================================\u001b[1m Ai Message \u001b[0m==================================\n",
      "\n",
      "Brad Pitt was born on December 18, 1963. Therefore, he is currently 59 years old (as of 2023). \n",
      "\n",
      "2 times Brad Pitt's age (59 years) is 118.\n"
     ]
    }
   ],
   "source": [
    "\n",
    "response = react_graph.invoke({\"query\": \"What is 2 times Brad Pitt's age?\"})\n",
    "response['messages'][-1].pretty_print()"
   ]
  },
  {
   "cell_type": "code",
   "execution_count": 46,
   "id": "47f57d2a",
   "metadata": {},
   "outputs": [
    {
     "name": "stdout",
     "output_type": "stream",
     "text": [
      "==================================\u001b[1m Ai Message \u001b[0m==================================\n",
      "Tool Calls:\n",
      "  brave_search (call_ZXS7icMhbBKK5hrn6ok5q4I9)\n",
      " Call ID: call_ZXS7icMhbBKK5hrn6ok5q4I9\n",
      "  Args:\n",
      "    query: company where Jensen Huang is CEO\n",
      "=================================\u001b[1m Tool Message \u001b[0m=================================\n",
      "Name: brave_search\n",
      "\n",
      "[{\"title\": \"Jensen Huang - Wikipedia\", \"link\": \"https://en.wikipedia.org/wiki/Jensen_Huang\", \"snippet\": \"Jen-Hsun &quot;Jensen&quot; Huang (Chinese: \\u9ec3\\u4ec1\\u52f3; pinyin: Hu\\u00e1ng R\\u00e9nx\\u016bn; Pe\\u030dh-\\u014de-j\\u012b: N\\u0302g J\\u00een-hun; born February 17, 1963) is a Taiwanese and American businessman, electrical engineer, and philanthropist who is the president, co-founder, and chief executive officer (CEO) of <strong>Nvidia</strong>, the world&#x27;s ...\"}]\n",
      "==================================\u001b[1m Ai Message \u001b[0m==================================\n",
      "Tool Calls:\n",
      "  get_stock_price (call_FnbN3ghLMfyRmXQPZI30SGDO)\n",
      " Call ID: call_FnbN3ghLMfyRmXQPZI30SGDO\n",
      "  Args:\n",
      "    ticker: NVDA\n",
      "=================================\u001b[1m Tool Message \u001b[0m=================================\n",
      "Name: get_stock_price\n",
      "\n",
      "110.71\n",
      "==================================\u001b[1m Ai Message \u001b[0m==================================\n",
      "\n",
      "The stock price of Nvidia, the company where Jensen Huang is the CEO, is $110.71.\n"
     ]
    }
   ],
   "source": [
    "response = react_graph.invoke({\"query\": \"What is the stock price of the company that Jensen Huang is CEO of?\"})\n",
    "for m in response['messages']:\n",
    "    m.pretty_print()"
   ]
  },
  {
   "cell_type": "code",
   "execution_count": 47,
   "id": "cb51528c",
   "metadata": {},
   "outputs": [
    {
     "name": "stdout",
     "output_type": "stream",
     "text": [
      "==================================\u001b[1m Ai Message \u001b[0m==================================\n",
      "Tool Calls:\n",
      "  get_stock_price (call_ctZYXIhxt7gn9JEZBfBcg3HC)\n",
      " Call ID: call_ctZYXIhxt7gn9JEZBfBcg3HC\n",
      "  Args:\n",
      "    ticker: NVDA\n",
      "=================================\u001b[1m Tool Message \u001b[0m=================================\n",
      "Name: get_stock_price\n",
      "\n",
      "110.71\n",
      "==================================\u001b[1m Ai Message \u001b[0m==================================\n",
      "Tool Calls:\n",
      "  multiply (call_hI3rkwok85NIEjo9btHJ9ByF)\n",
      " Call ID: call_hI3rkwok85NIEjo9btHJ9ByF\n",
      "  Args:\n",
      "    a: 110.71\n",
      "    b: 2\n",
      "=================================\u001b[1m Tool Message \u001b[0m=================================\n",
      "Name: multiply\n",
      "\n",
      "221.42\n",
      "==================================\u001b[1m Ai Message \u001b[0m==================================\n",
      "\n",
      "If the price of NVIDIA stock doubles, it will be $221.42.\n"
     ]
    }
   ],
   "source": [
    "response = react_graph.invoke({\"query\": \"What will be the price of nvidia stock if it doubles?\"})\n",
    "for m in response['messages']:\n",
    "    m.pretty_print()"
   ]
  },
  {
   "cell_type": "markdown",
   "id": "3d18228a",
   "metadata": {},
   "source": [
    "## ✅ Key Differences Between calling a function as a Node and a Tool\n",
    "\n",
    "| Feature                           | Function Calling as a Node                 | Tool (`@tool`) Function                     |\n",
    "|-----------------------------------|--------------------------------------------|---------------------------------------------|\n",
    "| **Invoked by...**                 | You (via LangGraph edges)                  | The LLM (via `tool_calls`)                  |\n",
    "| **Input format**                  | `state: State`                             | Explicit arguments (e.g., `a: int`)         |\n",
    "| **Purpose**                       | Part of graph flow                         | Model-usable external function              |\n",
    "| **Tool metadata?**                | ❌ No                                       | ✅ Yes (name, description)                   |\n",
    "| **Automatically selected by LLM?**| ❌ No                                       | ✅ Yes                                       |\n"
   ]
  },
  {
   "cell_type": "markdown",
   "id": "dcbf621b",
   "metadata": {},
   "source": []
  }
 ],
 "metadata": {
  "kernelspec": {
   "display_name": "lc-academy-env",
   "language": "python",
   "name": "python3"
  },
  "language_info": {
   "codemirror_mode": {
    "name": "ipython",
    "version": 3
   },
   "file_extension": ".py",
   "mimetype": "text/x-python",
   "name": "python",
   "nbconvert_exporter": "python",
   "pygments_lexer": "ipython3",
   "version": "3.11.9"
  }
 },
 "nbformat": 4,
 "nbformat_minor": 5
}
