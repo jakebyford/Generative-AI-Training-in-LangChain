{
 "cells": [
  {
   "cell_type": "markdown",
   "metadata": {},
   "source": [
    "# **Introduction to Langgraph** \n"
   ]
  },
  {
   "cell_type": "markdown",
   "metadata": {},
   "source": [
    "## 📚  **Cognitive Architecture:**  \n",
    "  - A term used in AI to describe models of **human reasoning** and their **computer implementations**.\n",
    "\n",
    "- **LLM Cognitive Architecture:**  \n",
    "  - Refers to the **sequence of steps** in an LLM application.\n",
    "\n",
    "- **Steps in LLM Applications:**  \n",
    "  - Examples of steps include:\n",
    "    - **Retrieval of relevant documents** (e.g., using RAG — Retrieval-Augmented Generation).\n",
    "    - **Calling an LLM with a chain-of-thought prompt** to guide multi-step reasoning. -->\n"
   ]
  },
  {
   "cell_type": "markdown",
   "metadata": {},
   "source": [
    "![Screenshot 2024-08-20 at 3.11.22 PM.png](https://cdn.prod.website-files.com/6720fd49425e367c9ec40a97/67763d0c2c765ddc16efcfd0_67763cbb89e7793bdd588306_key%2520conceps.jpeg) "
   ]
  },
  {
   "cell_type": "markdown",
   "metadata": {},
   "source": [
    "# **🧠 What Is `StateGraph`?**\n",
    "`StateGraph` is the core class in LangGraph used to **define a directed graph of nodes that share and modify a central state dictionary.**\n",
    "\n",
    "### **🔧 What Goes Inside a `StateGraph`?**\n",
    "1. **State:** (a `TypedDict`) defines the structure of data passed between nodes\n",
    "\n",
    "2. **Nodes:** Named `functions` that operate on that state\n",
    "\n",
    "3. **Edges:** `Connections` between nodes (and optional conditional logic)\n",
    "\n",
    "4. **Reducers:** Define `how to combine state updates` from different nodes"
   ]
  },
  {
   "cell_type": "markdown",
   "metadata": {},
   "source": [
    "# **🧩State**\n",
    "\n",
    "When we define a LangGraph `StateGraph`, we use a [state schema](https://langchain-ai.github.io/langgraph/concepts/low_level/#state).\n",
    "\n",
    "The state schema serves as the **input schema for all Nodes and Edges in the graph and represents the structure and types of data that our graph will use.**\n",
    "\n",
    "All nodes are expected to communicate with that schema.\n",
    "\n",
    "LangGraph offers flexibility in how you define your state schema, accommodating various Python [types](https://docs.python.org/3/library/stdtypes.html#type-objects) and validation approaches!\n",
    "\n",
    "> Let's use the `TypedDict` class from python's `typing` module as our schema, which **provides type hints for the keys.**"
   ]
  },
  {
   "cell_type": "code",
   "execution_count": 1,
   "metadata": {},
   "outputs": [],
   "source": [
    "from typing_extensions import TypedDict\n",
    "\n",
    "class State(TypedDict): # state = {\"graph_state\": \"empty graph\"}\n",
    "    graph_state: str"
   ]
  },
  {
   "cell_type": "markdown",
   "metadata": {},
   "source": [
    "## **🧿Nodes**\n",
    "\n",
    "[Nodes](https://langchain-ai.github.io/langgraph/concepts/low_level/#nodes) are just **python functions.**\n",
    "\n",
    "The first positional argument is the state, as defined above.\n",
    "\n",
    "Because the state is a `TypedDict` with schema as defined above, each node can access the key, `graph_state`, with `state['graph_state']`.\n",
    "\n",
    "Each node returns a new value of the state key `graph_state`.\n",
    "  \n",
    "By default, the new value returned by each node **[will override](https://langchain-ai.github.io/langgraph/concepts/low_level/#reducers)** the prior state value. "
   ]
  },
  {
   "cell_type": "code",
   "execution_count": 2,
   "metadata": {},
   "outputs": [],
   "source": [
    "def node_1(state: State): # output is an updated State object\n",
    "    print(\"---Node 1--- state:\", state)\n",
    "    return {\"graph_state\": state['graph_state'] +\" I am happy!\"}\n",
    "\n",
    "\n",
    "# def node_2(state: State):\n",
    "#     print(\"---Node 2--- state:\", state)\n",
    "#     return {\"graph_state\": state['graph_state'] +\" happy!\"}\n"
   ]
  },
  {
   "cell_type": "markdown",
   "metadata": {},
   "source": [
    "## **➡️Normal Edges**\n",
    "\n",
    "[Edges](https://langchain-ai.github.io/langgraph/concepts/low_level/#edges) connect the nodes.\n",
    "\n",
    "1. **Normal Edges** are used if you want to *always* go from, for example, `node_1` to `node_2`.\n",
    "\n",
    " "
   ]
  },
  {
   "cell_type": "markdown",
   "metadata": {},
   "source": [
    "## **🧱Graph Construction**\n",
    "\n",
    "Now, we build the graph from our [components](\n",
    "https://langchain-ai.github.io/langgraph/concepts/low_level/) defined above.\n",
    "\n",
    "The [StateGraph class](https://langchain-ai.github.io/langgraph/concepts/low_level/#stategraph) is the graph class that we can use.\n",
    " \n",
    "First, we initialize a `StateGraph` with the `State` class we defined above. Then, we add our nodes and edges.\n",
    "\n",
    "We use the [`START` Node, a special node](https://langchain-ai.github.io/langgraph/concepts/low_level/#start-node) that sends user input to the graph, to indicate where to start our graph.\n",
    " \n",
    "The [`END` Node](https://langchain-ai.github.io/langgraph/concepts/low_level/#end-node) is a special node that represents a terminal node. \n",
    "\n",
    "Finally, we [compile our graph](https://langchain-ai.github.io/langgraph/concepts/low_level/#compiling-your-graph) to perform a few basic checks on the graph structure. \n",
    "\n",
    "We can visualize the graph as a [Mermaid diagram](https://github.com/mermaid-js/mermaid).\n"
   ]
  },
  {
   "cell_type": "markdown",
   "metadata": {},
   "source": [
    "---"
   ]
  },
  {
   "cell_type": "markdown",
   "metadata": {},
   "source": [
    "# **🕸️ 1. The Simplest Graph**\n",
    "\n",
    "Let's build a simple graph with 2 nodes, normal edges and one LLM call \n",
    "\n"
   ]
  },
  {
   "cell_type": "code",
   "execution_count": 5,
   "metadata": {},
   "outputs": [
    {
     "data": {
      "image/png": "[encoded data removed]",
      "text/plain": [
       "<IPython.core.display.Image object>"
      ]
     },
     "metadata": {},
     "output_type": "display_data"
    }
   ],
   "source": [
    "from IPython.display import Image, display\n",
    "from langgraph.graph import StateGraph, START, END\n",
    "from typing_extensions import TypedDict\n",
    "\n",
    "\n",
    "\n",
    "#################### Define State ##########################\n",
    "class State(TypedDict): # state = {\"graph_state\": \"empty graph\"}\n",
    "    graph_state: str\n",
    "\n",
    "\n",
    "######### Define functions to be used as Nodes ###########\n",
    "def node_1(state: State): # output is an updated State object\n",
    "    print(\"---Node 1--- state:\", state)\n",
    "    return {\"graph_state\": state['graph_state'] +\" I am happy!\"}\n",
    "\n",
    "\n",
    "\n",
    "\n",
    "# def node_2(state: State):\n",
    "#     print(\"---Node 2--- state:\", state)\n",
    "#     return {\"graph_state\": state['graph_state'] +\" happy!\"}\n",
    "\n",
    "##################### Build graph ##########################\n",
    "builder = StateGraph(State)\n",
    "\n",
    "## Create Nodes\n",
    "builder.add_node(\"node_1\", node_1)\n",
    "# builder.add_node(\"node_2\", node_2)\n",
    "\n",
    "\n",
    "# Logic (Edges)\n",
    "builder.add_edge(START, \"node_1\")\n",
    "# builder.add_edge(\"node_1\", 'node_2')\n",
    "builder.add_edge(\"node_1\", END)\n",
    "\n",
    "\n",
    "############### Compile Graph ###############################\n",
    "happy_graph = builder.compile()\n",
    "\n",
    "# View\n",
    "# graph.get_graph().print_ascii()\n",
    "display(Image(happy_graph.get_graph(xray=True).draw_mermaid_png()))"
   ]
  },
  {
   "cell_type": "code",
   "execution_count": 6,
   "metadata": {},
   "outputs": [
    {
     "name": "stdout",
     "output_type": "stream",
     "text": [
      "---Node 1--- state: {'graph_state': 'Hi, this is Lance.'}\n"
     ]
    },
    {
     "data": {
      "text/plain": [
       "{'graph_state': 'Hi, this is Lance. I am happy!'}"
      ]
     },
     "execution_count": 6,
     "metadata": {},
     "output_type": "execute_result"
    }
   ],
   "source": [
    "happy_graph.invoke({\"graph_state\" : \"Hi, this is Lance.\"})"
   ]
  },
  {
   "cell_type": "markdown",
   "metadata": {},
   "source": [
    "## **Example: 🤖 Chatbot**\n",
    "**One LLM call only**. This is useful mostly when it’s part of a larger application that makes use of an LLM for achieving a specific task, such as translating or summarizing a piece of text.\n",
    "\n",
    "    Ex: The chatbot will respond directly to user messages "
   ]
  },
  {
   "cell_type": "code",
   "execution_count": 7,
   "metadata": {},
   "outputs": [],
   "source": [
    "# read api_key from file\n",
    "with open(r'C:\\Users\\Seyed Barabadi\\Downloads\\Gen AI\\Incedo Teaching\\api_keys.txt', 'r') as file:\n",
    "    api_key = file.read()\n",
    "\n",
    "\n",
    "# Set loaded api_key as OPENAI_API_KEY environmental variable\n",
    "import os\n",
    "os.environ[\"OPENAI_API_KEY\"] = api_key\n",
    "\n",
    "# api_key"
   ]
  },
  {
   "cell_type": "markdown",
   "metadata": {},
   "source": [
    "### 💬  Using `messages` as state key\n",
    "\n",
    "With these foundations in place, we can now use [`messages`](https://python.langchain.com/v0.2/docs/concepts/#messages) in our graph state.\n",
    "\n",
    "Let's define our state, `State`, as a `TypedDict` with a single key: `messages`.\n",
    "\n",
    "`messages` is simply a list of messages, as we defined above (e.g., `HumanMessage`, etc). -->"
   ]
  },
  {
   "cell_type": "code",
   "execution_count": 8,
   "metadata": {},
   "outputs": [
    {
     "data": {
      "image/png": "[encoded data removed]",
      "text/plain": [
       "<IPython.core.display.Image object>"
      ]
     },
     "metadata": {},
     "output_type": "display_data"
    }
   ],
   "source": [
    "from typing import Annotated, TypedDict\n",
    "from langgraph.graph import StateGraph, START, END\n",
    "from langgraph.graph.message import add_messages\n",
    "from langchain_openai import ChatOpenAI\n",
    "from langchain_core.messages import HumanMessage, SystemMessage, AnyMessage\n",
    "from langchain_openai import ChatOpenAI\n",
    "from langgraph.graph import MessagesState\n",
    "\n",
    "\n",
    "model = ChatOpenAI(model='gpt-3.5-turbo')\n",
    "\n",
    "\n",
    "class State(TypedDict):\n",
    "    # Messages have the type \"list\". The `add_messages` \n",
    "    # function in the annotation defines how this state should \n",
    "    # be updated (in this case, it appends new messages to the \n",
    "    # list, rather than replacing the previous messages)\n",
    "    # messages: Annotated[list[AnyMessage], add_messages]\n",
    "    messages: list[AnyMessage]\n",
    "\n",
    "\n",
    "\n",
    "def chatbot(state: State):\n",
    "    answer = model.invoke(state[\"messages\"])\n",
    "    return {\"messages\": [answer]}\n",
    "\n",
    "\n",
    "\n",
    "builder = StateGraph(State)\n",
    "\n",
    "\n",
    "builder.add_node(\"chatbot\", chatbot)\n",
    "\n",
    "builder.add_edge(START, 'chatbot')\n",
    "builder.add_edge('chatbot', END)\n",
    "\n",
    "\n",
    "chatbot_graph = builder.compile()\n",
    "display(Image(chatbot_graph.get_graph(xray=True).draw_mermaid_png()))"
   ]
  },
  {
   "cell_type": "markdown",
   "metadata": {},
   "source": [
    "## **🔮 Graph Invocation**\n",
    "\n",
    "The compiled graph implements the [runnable](https://python.langchain.com/docs/concepts/runnables/) protocol which means it can be `invoke`d.\n",
    "\n",
    "The input is a dictionary `{\"graph_state\": \"Hey, this is customer number 39. My router is not working!\"}`, which sets the initial value for our graph state dict.\n",
    "\n",
    "When `invoke` is called, the graph starts execution from the `START` node.\n",
    "\n",
    "It progresses through the defined nodes (`node_1` and `node_2`) in order.\n",
    "\n",
    "Each node function receives the current state and returns a new value, which overrides the graph state.\n",
    "\n",
    "The execution continues until it reaches the `END` node.\n",
    "\n",
    "\n",
    "\n",
    "\n",
    "---\n",
    "\n"
   ]
  },
  {
   "cell_type": "code",
   "execution_count": 9,
   "metadata": {},
   "outputs": [
    {
     "name": "stdout",
     "output_type": "stream",
     "text": [
      "==================================\u001b[1m Ai Message \u001b[0m==================================\n",
      "\n",
      "Hi customer number 39, I'm sorry to hear that your router is not working. Can you please provide me with some more details about the issue you are experiencing? Have you tried troubleshooting it or resetting it? Let me know so I can assist you further.\n"
     ]
    }
   ],
   "source": [
    "input = {\"messages\": [HumanMessage('Hey, this is customer number 39. My router is not working!')]}\n",
    "\n",
    "answer = chatbot_graph.invoke(input)\n",
    "\n",
    "for m in answer['messages']:\n",
    "    m.pretty_print()"
   ]
  },
  {
   "cell_type": "markdown",
   "metadata": {},
   "source": [
    "The input to the graph was in the same shape as the State object we defined earlier; that is, we sent in a list of messages in the messages key of a dictionary."
   ]
  },
  {
   "cell_type": "markdown",
   "metadata": {},
   "source": [
    "## ❌**We have a problem!**\n",
    "\n",
    "As we discussed, each node will return a new value for our state key `messages`.\n",
    "\n",
    "But, this new value [will override](https://langchain-ai.github.io/langgraph/concepts/low_level/#reducers) the prior `messages` value.\n",
    " \n",
    "As our graph runs, we want to **append** messages to our `messages` state key.\n",
    " \n",
    "We can use [reducer functions](https://langchain-ai.github.io/langgraph/concepts/low_level/#reducers) to address this."
   ]
  },
  {
   "cell_type": "markdown",
   "metadata": {},
   "source": [
    "--- "
   ]
  },
  {
   "cell_type": "markdown",
   "metadata": {},
   "source": [
    "## 🧮 **Reducers**\n",
    "\n",
    "Reducers allow us to specify **how state updates are performed.**\n",
    "\n",
    "If no reducer function is specified, then it is assumed that updates to the key should *override it* as we saw before.\n",
    " \n",
    "But, to append messages, we can use the pre-built `add_messages` reducer.\n",
    "\n",
    "This ensures that any messages are appended to the existing list of messages.\n",
    "\n"
   ]
  },
  {
   "cell_type": "markdown",
   "metadata": {},
   "source": [
    "### **1. `add_messages`**\n",
    "To append messages, we can use the pre-built `add_messages` reducer.\n",
    "\n",
    "This ensures that any messages are appended to the existing list of messages. We simply need to use `Annotated` on our `messages` key with the `add_messages` reducer function as metadata."
   ]
  },
  {
   "cell_type": "code",
   "execution_count": 10,
   "metadata": {},
   "outputs": [],
   "source": [
    "from typing import Annotated\n",
    "from langgraph.graph.message import add_messages\n",
    "\n",
    "\n",
    "# Override\n",
    "class State(TypedDict):\n",
    "    messages: list[AnyMessage]\n",
    "\n",
    "\n",
    "# Append\n",
    "class State(TypedDict):\n",
    "    messages: Annotated[list[AnyMessage], add_messages]"
   ]
  },
  {
   "cell_type": "markdown",
   "metadata": {},
   "source": [
    "To go a bit deeper, we can see how the `add_messages` reducer works in isolation. -->"
   ]
  },
  {
   "cell_type": "code",
   "execution_count": 11,
   "metadata": {},
   "outputs": [
    {
     "data": {
      "text/plain": [
       "[AIMessage(content='Hello! How can I assist you?', additional_kwargs={}, response_metadata={}, name='Model', id='0c0cbc91-d235-4643-a04a-2a68a668ec74'),\n",
       " HumanMessage(content=\"I'm looking for information on marine biology.\", additional_kwargs={}, response_metadata={}, name='Lance', id='99d47089-aedb-465f-821f-b4eb648ab24e'),\n",
       " AIMessage(content='Sure, I can help with that. What specifically are you interested in?', additional_kwargs={}, response_metadata={}, name='Model', id='20c728ba-61d1-4e0e-9c92-e4d6fdcd7b44')]"
      ]
     },
     "execution_count": 11,
     "metadata": {},
     "output_type": "execute_result"
    }
   ],
   "source": [
    "from langchain_core.messages import AIMessage, HumanMessage, SystemMessage, ToolMessage\n",
    "\n",
    "# Initial state\n",
    "initial_messages = [AIMessage(content=\"Hello! How can I assist you?\", name=\"Model\"),\n",
    "                    HumanMessage(content=\"I'm looking for information on marine biology.\", name=\"Lance\")\n",
    "                   ]\n",
    "\n",
    "# New message to add\n",
    "new_message = AIMessage(content=\"Sure, I can help with that. What specifically are you interested in?\", name=\"Model\")\n",
    "\n",
    "# Test\n",
    "add_messages(initial_messages , new_message)"
   ]
  },
  {
   "cell_type": "markdown",
   "metadata": {},
   "source": [
    "🎯 Since having a list of messages in graph state is so common, LangGraph has a pre-built [`MessagesState`](https://langchain-ai.github.io/langgraph/concepts/low_level/#messagesstate)! \n",
    "\n",
    "`MessagesState` is defined: \n",
    "\n",
    "* With a pre-build single `messages` key\n",
    "* This is a list of `AnyMessage` objects \n",
    "* It uses the `add_messages` reducer\n",
    "\n",
    "We'll usually use `MessagesState` because it is less verbose than defining a custom `TypedDict`, as shown above"
   ]
  },
  {
   "cell_type": "code",
   "execution_count": 12,
   "metadata": {},
   "outputs": [],
   "source": [
    "from langgraph.graph import MessagesState\n",
    "\n",
    "class MessagesState(MessagesState):\n",
    "    # this is by defenition here: \n",
    "    # messages: Annotated[list[AnyMessage], add_messages]\n",
    "    # Add any keys needed beyond messages, which is pre-built \n",
    "    pass"
   ]
  },
  {
   "cell_type": "code",
   "execution_count": 13,
   "metadata": {},
   "outputs": [],
   "source": [
    "class ExtendedMessagesState(MessagesState):\n",
    "    extra_key_1: str\n",
    "    extra_key_2: int"
   ]
  },
  {
   "cell_type": "markdown",
   "metadata": {},
   "source": [
    "### **2. `operator.add`**\n",
    "\n",
    "For example, in this case let's append the `int` values returned from each node rather than overwriting them.\n",
    "\n",
    "We just need a reducer that can perform this: `operator.add` is a function from Python's built-in `operator` module.\n",
    "\n",
    "When `operator.add` is applied to lists, it performs list concatenation."
   ]
  },
  {
   "cell_type": "code",
   "execution_count": 14,
   "metadata": {},
   "outputs": [
    {
     "data": {
      "text/plain": [
       "[2, 4, 6, 10]"
      ]
     },
     "execution_count": 14,
     "metadata": {},
     "output_type": "execute_result"
    }
   ],
   "source": [
    "import operator\n",
    "\n",
    "# Initial state\n",
    "initial_messages = [2, 4, 6]\n",
    "\n",
    "# New message to add\n",
    "new_message = [10]\n",
    "\n",
    "# Test\n",
    "operator.add(initial_messages , new_message)"
   ]
  },
  {
   "cell_type": "markdown",
   "metadata": {},
   "source": [
    "---"
   ]
  },
  {
   "cell_type": "markdown",
   "metadata": {},
   "source": [
    "# **2. ⛓️ Chain**\n",
    "\n",
    "**Multiple LLM calls**, in a predefined sequence (that is, different invocations of the application do the same sequence of LLM calls, albeit with different inputs and results).\n"
   ]
  },
  {
   "cell_type": "markdown",
   "metadata": {},
   "source": [
    "## **Multiple Schema States**\n",
    "\n",
    "Schema States are type hints and not restrictions! \n",
    "\n",
    "They can be used by static type checkers (like [mypy](https://github.com/python/mypy)) or IDEs to catch potential type-related errors before the code is run. \n",
    "\n",
    "> But they are not enforced at runtime!"
   ]
  },
  {
   "cell_type": "markdown",
   "metadata": {},
   "source": [
    "## **1.Private State**\n",
    "\n",
    "First, let's cover the case of passing [private state](https://langchain-ai.github.io/langgraph/how-tos/pass_private_state/) between nodes.\n",
    "\n",
    "This is useful for anything needed as part of the **intermediate working logic of the graph, but not relevant for the overall graph input or output.**\n",
    "\n",
    "We'll define an `OverallState` and a `PrivateState`.\n",
    "\n",
    "`node_2` uses `PrivateState` as input, but writes out to `OverallState`."
   ]
  },
  {
   "cell_type": "code",
   "execution_count": 18,
   "metadata": {},
   "outputs": [
    {
     "data": {
      "image/png": "[encoded data removed]",
      "text/plain": [
       "<IPython.core.display.Image object>"
      ]
     },
     "metadata": {},
     "output_type": "display_data"
    }
   ],
   "source": [
    "from typing_extensions import TypedDict\n",
    "from IPython.display import Image, display\n",
    "from langgraph.graph import StateGraph, START, END\n",
    "\n",
    "\n",
    "class OverallState(TypedDict):\n",
    "    overal_variable: int\n",
    "\n",
    "\n",
    "class PrivateState(TypedDict):\n",
    "    private_variable: int\n",
    "\n",
    "\n",
    "\n",
    "def overal_node(state: OverallState) -> PrivateState:\n",
    "    print(\"---overal_node--- state:\", state)\n",
    "    return {\"private_variable\": state['overal_variable'] + 10}\n",
    "\n",
    "\n",
    "def private_node(state: PrivateState) -> OverallState:\n",
    "    print(\"---private_node--- state:\", state)\n",
    "    return {\"overal_variable\": state['private_variable'] + 1}\n",
    "\n",
    "\n",
    "\n",
    "# Build graph\n",
    "builder = StateGraph(OverallState)\n",
    "builder.add_node(\"overal_node\", overal_node)\n",
    "builder.add_node(\"private_node\", private_node)\n",
    "\n",
    "# Logic\n",
    "builder.add_edge(START, \"overal_node\")\n",
    "builder.add_edge(\"overal_node\", \"private_node\")\n",
    "builder.add_edge(\"private_node\", END)\n",
    "\n",
    "# Add\n",
    "graph = builder.compile()\n",
    "\n",
    "# View\n",
    "display(Image(graph.get_graph().draw_mermaid_png()))"
   ]
  },
  {
   "cell_type": "code",
   "execution_count": 19,
   "metadata": {},
   "outputs": [
    {
     "name": "stdout",
     "output_type": "stream",
     "text": [
      "---overal_node--- state: {'overal_variable': 1}\n",
      "---private_node--- state: {'private_variable': 11}\n"
     ]
    },
    {
     "data": {
      "text/plain": [
       "{'overal_variable': 12}"
      ]
     },
     "execution_count": 19,
     "metadata": {},
     "output_type": "execute_result"
    }
   ],
   "source": [
    "graph.invoke({\"overal_variable\" : 1})"
   ]
  },
  {
   "cell_type": "markdown",
   "metadata": {},
   "source": [
    "`private_variable` is only included in `PrivateState`.\n",
    "\n",
    "`private_node` uses `PrivateState` as input, but writes out to `OverallState`.\n",
    "\n",
    "So, we can see that `private_variable` is excluded from the graph output because it is not in `OverallState`."
   ]
  },
  {
   "cell_type": "markdown",
   "metadata": {},
   "source": [
    "## **2. Input / Output Schema**\n",
    "\n",
    "By default, `StateGraph` takes in a single schema and all nodes are expected to communicate with that schema. \n",
    "\n",
    "However, it is also possible to [define explicit input and output schemas for a graph](https://langchain-ai.github.io/langgraph/how-tos/input_output_schema/?h=input+outp).\n",
    "\n",
    "Often, in these cases, we define an \"internal\" schema that contains *all* keys relevant to graph operations.\n",
    "\n",
    "But, we use specific `input` and `output` schemas to constrain the input and output.\n",
    "\n",
    "First, let's just run the graph with a single schema."
   ]
  },
  {
   "cell_type": "code",
   "execution_count": 20,
   "metadata": {},
   "outputs": [
    {
     "data": {
      "image/png": "[encoded data removed]",
      "text/plain": [
       "<IPython.core.display.Image object>"
      ]
     },
     "metadata": {},
     "output_type": "display_data"
    }
   ],
   "source": [
    "class OverallState(TypedDict):\n",
    "    question: str\n",
    "    answer: str\n",
    "    notes: str\n",
    "\n",
    "\n",
    "\n",
    "def thinking_node(state: OverallState):\n",
    "    return {\"answer\": \"bye\", \"notes\": \"... his name is Lance\"}\n",
    "\n",
    "\n",
    "\n",
    "def answering_node(state: OverallState):\n",
    "    return {\"answer\": \"bye Lance\"}\n",
    "\n",
    "\n",
    "\n",
    "graph = StateGraph(OverallState)\n",
    "graph.add_node(\"answering_node\", answering_node)\n",
    "graph.add_node(\"thinking_node\", thinking_node)\n",
    "\n",
    "\n",
    "graph.add_edge(START, \"thinking_node\")\n",
    "graph.add_edge(\"thinking_node\", \"answering_node\")\n",
    "graph.add_edge(\"answering_node\", END)\n",
    "\n",
    "graph = graph.compile()\n",
    "\n",
    "# View\n",
    "display(Image(graph.get_graph().draw_mermaid_png()))"
   ]
  },
  {
   "cell_type": "markdown",
   "metadata": {},
   "source": [
    "### **Notice that the output of `invoke` contains all keys in `OverallState`.**"
   ]
  },
  {
   "cell_type": "code",
   "execution_count": 21,
   "metadata": {},
   "outputs": [
    {
     "data": {
      "text/plain": [
       "{'question': 'hi', 'answer': 'bye Lance', 'notes': '... his name is Lance'}"
      ]
     },
     "execution_count": 21,
     "metadata": {},
     "output_type": "execute_result"
    }
   ],
   "source": [
    "graph.invoke({\"question\":\"hi\"})"
   ]
  },
  {
   "cell_type": "markdown",
   "metadata": {},
   "source": [
    "Now, let's use a specific `input` and `output` schema with our graph.\n",
    "\n",
    "Here, `input` / `output` schemas perform *filtering* on what keys are permitted on the input and output of the graph. \n",
    "\n",
    "In addition, we can use a type hint `state: InputState` to specify the input schema of each of our nodes.\n",
    "\n",
    "This is important when the graph is using multiple schemas.\n",
    "\n",
    "We use type hints below to, for example, show that the output of `answer_node` will be filtered to `OutputState`. "
   ]
  },
  {
   "cell_type": "code",
   "execution_count": 22,
   "metadata": {},
   "outputs": [
    {
     "data": {
      "image/png": "[encoded data removed]",
      "text/plain": [
       "<IPython.core.display.Image object>"
      ]
     },
     "metadata": {},
     "output_type": "display_data"
    },
    {
     "data": {
      "text/plain": [
       "{'answer': 'bye Lance'}"
      ]
     },
     "execution_count": 22,
     "metadata": {},
     "output_type": "execute_result"
    }
   ],
   "source": [
    "class InputState(TypedDict):\n",
    "    question: str\n",
    "\n",
    "\n",
    "class OutputState(TypedDict):\n",
    "    answer: str\n",
    "\n",
    "\n",
    "class OverallState(TypedDict):\n",
    "    question: str\n",
    "    answer: str\n",
    "    notes: str\n",
    "\n",
    "\n",
    "\n",
    "def thinking_node(state: InputState):\n",
    "    return {\"answer\": \"bye\", \n",
    "            \"notes\": \"... his is name is Lance\"}\n",
    "\n",
    "\n",
    "def answer_node(state: OverallState) -> OutputState:\n",
    "    return {\"answer\": \"bye Lance\"}\n",
    "\n",
    "\n",
    "\n",
    "graph = StateGraph(OverallState,\n",
    "                   input=InputState, \n",
    "                   output=OutputState)\n",
    "\n",
    "graph.add_node(\"answer_node\", answer_node)\n",
    "graph.add_node(\"thinking_node\", thinking_node)\n",
    "\n",
    "\n",
    "graph.add_edge(START, \"thinking_node\")\n",
    "graph.add_edge(\"thinking_node\", \"answer_node\")\n",
    "graph.add_edge(\"answer_node\", END)\n",
    "\n",
    "graph = graph.compile()\n",
    "\n",
    "# View\n",
    "display(Image(graph.get_graph().draw_mermaid_png()))\n",
    "\n",
    "graph.invoke({\"question\":\"hi\"})"
   ]
  },
  {
   "cell_type": "markdown",
   "metadata": {},
   "source": [
    "We can see the `output` schema constrains the output to only the `answer` key."
   ]
  },
  {
   "cell_type": "markdown",
   "metadata": {},
   "source": [
    "## **Attention!**\n",
    "If the return of a node\n",
    "```python\n",
    "def answer_node(state: OverallState):\n",
    "    return {\"answer\": \"bye Lance\",\n",
    "            \"notes\": state['notes']}\n",
    "```\n",
    "contradcits the declared `output`,\n",
    "\n",
    "```python\n",
    "\n",
    "Class OutputState(TypedDict):\n",
    "    answer: str\n",
    "    \n",
    "\n",
    "graph = StateGraph(OverallState, \n",
    "                   input=InputState, \n",
    "                   output=OutputState)\n",
    "```\n",
    "`OutputState` dictates the final return.\n",
    "In this case return is:\n",
    "```pyhton\n",
    "{'answer': 'bye Lance'}\n",
    "\n",
    "```\n",
    "\n",
    "## OR\n",
    "\n",
    "\n",
    "```python\n",
    "def answer_node(state: OverallState):\n",
    "    return {\"answer\": \"bye Lance\"}\n",
    "```\n",
    "\n",
    "\n",
    "```python\n",
    "\n",
    "Class OutputState(TypedDict):\n",
    "    answer: str\n",
    "    note: str\n",
    "    \n",
    "```\n",
    "\n",
    "```pyhton\n",
    "{'answer': 'bye Lance', 'notes': '... his is name is Lance'}\n",
    "\n",
    "```\n"
   ]
  },
  {
   "cell_type": "markdown",
   "metadata": {},
   "source": [
    "---"
   ]
  },
  {
   "cell_type": "markdown",
   "metadata": {},
   "source": [
    "## **Example: 🗣️ text-to-SQL Bot**\n",
    "text-to-SQL application, which receives as input from the user a natural language description of some calculation to make over a database. \n",
    "    \n",
    "\n",
    "\n",
    "1. One LLM call to generate a SQL query from the natural language query, provided by the user, and a description of the database contents, provided by the developer.\n",
    "\n",
    "2. Another LLM call to write an explanation of the query appropriate for a nontechnical user, given the query generated in the previous call. This one could then be used to enable the user to check if the generated query matches his request."
   ]
  },
  {
   "cell_type": "code",
   "execution_count": 23,
   "metadata": {},
   "outputs": [
    {
     "data": {
      "image/png": "[encoded data removed]",
      "text/plain": [
       "<IPython.core.display.Image object>"
      ]
     },
     "metadata": {},
     "output_type": "display_data"
    }
   ],
   "source": [
    "from typing import Annotated, TypedDict\n",
    "\n",
    "from langchain_core.messages import HumanMessage, SystemMessage, AIMessage\n",
    "from langchain_openai import ChatOpenAI\n",
    "from langgraph.graph import END, START, StateGraph\n",
    "from langgraph.graph.message import add_messages\n",
    "\n",
    "\n",
    "################### ALL STATES #####################################################\n",
    "\n",
    "class OveralState(TypedDict):\n",
    "    messages: Annotated[list[AnyMessage], add_messages] # to track conversation history\n",
    "    user_query: str # user input\n",
    "    generated_sql_query: str # output of sql_generator Node\n",
    "    generated_sql_explanation: str # output of explain_generator Node\n",
    "\n",
    "\n",
    "\n",
    "class InputState(TypedDict):\n",
    "    user_query: str\n",
    "    \n",
    "\n",
    "\n",
    "class OutputState(TypedDict):\n",
    "    messages: list \n",
    "    generated_sql_query: str\n",
    "    generated_sql_explanation: str\n",
    "\n",
    "\n",
    "################# ALL NODES ###################################\n",
    "# useful to generate SQL queries\n",
    "model_sql_generator = ChatOpenAI(model='gpt-3.5-turbo', temperature=0.1)\n",
    "\n",
    "# useful to generate natural language outputs\n",
    "model_explanation_generator = ChatOpenAI(model='gpt-4', temperature=0.7)\n",
    "\n",
    "\n",
    "\n",
    "def sql_generator(state): # the OveralState is passed here unless (state: InputState) is explicitly mentioned\n",
    "    # state {'messages': [], 'user_query': 'What is the total sales for each product?'}\n",
    "    generator_system_message = SystemMessage( # constant for all calls to this function\n",
    "            \"You are a helpful data analyst, who generates SQL queries for users based on their questions. Return just the SQL query without any further info.\")\n",
    "\n",
    "    user_message = HumanMessage(state[\"user_query\"]) # changes at each call\n",
    "   \n",
    "    all_input_messages = [  # includes all the inputs for LLM call\n",
    "                          generator_system_message,\n",
    "                          *state[\"messages\"], # *state[\"messages\"] is empty at this stage, unless we have memory to store messages from previous calls\n",
    "                          user_message\n",
    "                          ] \n",
    "            \n",
    "\n",
    "    generated_sql = model_sql_generator.invoke(all_input_messages)\n",
    "\n",
    "    return {\n",
    "        \"generated_sql_query\": generated_sql.content,\n",
    "        # update conversation history\n",
    "        # \"messages\": [user_message, generated_sql], # only user's query and generated_sql are appended to messages\n",
    "        \"messages\": [generator_system_message, user_message, generated_sql], # all system messages are also appended\n",
    "    }\n",
    "\n",
    "\n",
    "\n",
    "\n",
    "                                       \n",
    "def explanation_generator(state):\n",
    "    explainer_system_message = SystemMessage(\n",
    "            \"You are a helpful data analyst, who explains SQL queries to users in plain English. Returrn No sql query just explanation.\")\n",
    "\n",
    "    # print('*state[messages] in generator:', *state[\"messages\"])\n",
    "    all_input_messages = [ \n",
    "        explainer_system_message,\n",
    "        *state[\"messages\"], # includes [user_message, generated_sql_query] from generator\n",
    "    ]\n",
    "\n",
    "    generated_explanation = model_explanation_generator.invoke(all_input_messages)\n",
    "    print(generated_explanation)\n",
    "    # print(\"generated_sql_query\", state[\"messages\"]['generated_sql_query'])\n",
    "    return {\n",
    "    \n",
    "        \"generated_sql_explanation\": generated_explanation.content,\n",
    "        \"messages\": [generated_explanation] # update conversation history\n",
    "    }\n",
    "\n",
    "\n",
    "################# BUILD THE GRAPH ##################################\n",
    "\n",
    "builder = StateGraph(OveralState, \n",
    "                     input=InputState, \n",
    "                     output=OutputState)\n",
    "\n",
    "\n",
    "builder.add_node(\"sql_generator\", sql_generator)\n",
    "builder.add_node(\"explanation_generator\", explanation_generator)\n",
    "\n",
    "\n",
    "builder.add_edge(START, \"sql_generator\")\n",
    "builder.add_edge(\"sql_generator\", \"explanation_generator\")\n",
    "builder.add_edge(\"explanation_generator\", END)\n",
    "\n",
    "\n",
    "graph = builder.compile()\n",
    "display(Image(graph.get_graph(xray=True).draw_mermaid_png()))"
   ]
  },
  {
   "cell_type": "markdown",
   "metadata": {},
   "source": [
    "## 🔮 `invoke()` Behavior in LangGraph\n",
    "\n",
    "| Feature                     | Description                                                                 |\n",
    "|-----------------------------|-----------------------------------------------------------------------------|\n",
    "| 🚀 `invoke()`               | Runs the **entire graph synchronously**                                     |\n",
    "| ⏱️ Execution Order         | **Waits** for each step to finish before moving to the next                  |\n",
    "| 🎯 Output                  | Returns the **final state** after all nodes have completed                   |\n",
    "\n",
    "\n",
    "---\n",
    "\n"
   ]
  },
  {
   "cell_type": "code",
   "execution_count": 24,
   "metadata": {},
   "outputs": [
    {
     "name": "stdout",
     "output_type": "stream",
     "text": [
      "content='This SQL query will give you a list of all products in your \"sales\" table, along with the total sales amount for each product. The \"SUM(sales_amount)\" function adds up all the sales for each product, and \"GROUP BY product_name\" groups the results by the name of the product. So, for each unique product name in the sales table, you\\'ll get the total sales amount.' additional_kwargs={'refusal': None} response_metadata={'token_usage': {'completion_tokens': 83, 'prompt_tokens': 103, 'total_tokens': 186, 'completion_tokens_details': {'accepted_prediction_tokens': 0, 'audio_tokens': 0, 'reasoning_tokens': 0, 'rejected_prediction_tokens': 0}, 'prompt_tokens_details': {'audio_tokens': 0, 'cached_tokens': 0}}, 'model_name': 'gpt-4-0613', 'system_fingerprint': None, 'id': 'chatcmpl-BMmTWcIIQS8aCHofHZa404NqgeHg3', 'finish_reason': 'stop', 'logprobs': None} id='run-49dc1855-82a8-42fe-ab00-2f97d78ad463-0' usage_metadata={'input_tokens': 103, 'output_tokens': 83, 'total_tokens': 186, 'input_token_details': {'audio': 0, 'cache_read': 0}, 'output_token_details': {'audio': 0, 'reasoning': 0}}\n",
      "{'messages': [SystemMessage(content='You are a helpful data analyst, who generates SQL queries for users based on their questions. Return just the SQL query without any further info.', additional_kwargs={}, response_metadata={}, id='99082554-7a7b-493c-bcaa-1c3f6853d504'), HumanMessage(content='What is the total sales for each product?', additional_kwargs={}, response_metadata={}, id='6a0af01c-b59b-4ace-b25d-ba6c49c1a93c'), AIMessage(content='SELECT product_name, SUM(sales_amount) AS total_sales\\nFROM sales\\nGROUP BY product_name;', additional_kwargs={'refusal': None}, response_metadata={'token_usage': {'completion_tokens': 22, 'prompt_tokens': 48, 'total_tokens': 70, 'completion_tokens_details': {'accepted_prediction_tokens': 0, 'audio_tokens': 0, 'reasoning_tokens': 0, 'rejected_prediction_tokens': 0}, 'prompt_tokens_details': {'audio_tokens': 0, 'cached_tokens': 0}}, 'model_name': 'gpt-3.5-turbo-0125', 'system_fingerprint': None, 'id': 'chatcmpl-BMmTVwnebvr9buIUdrluZICg3hk5c', 'finish_reason': 'stop', 'logprobs': None}, id='run-b06401c8-d2c8-41f8-8e64-ce125d7d1f39-0', usage_metadata={'input_tokens': 48, 'output_tokens': 22, 'total_tokens': 70, 'input_token_details': {'audio': 0, 'cache_read': 0}, 'output_token_details': {'audio': 0, 'reasoning': 0}}), AIMessage(content='This SQL query will give you a list of all products in your \"sales\" table, along with the total sales amount for each product. The \"SUM(sales_amount)\" function adds up all the sales for each product, and \"GROUP BY product_name\" groups the results by the name of the product. So, for each unique product name in the sales table, you\\'ll get the total sales amount.', additional_kwargs={'refusal': None}, response_metadata={'token_usage': {'completion_tokens': 83, 'prompt_tokens': 103, 'total_tokens': 186, 'completion_tokens_details': {'accepted_prediction_tokens': 0, 'audio_tokens': 0, 'reasoning_tokens': 0, 'rejected_prediction_tokens': 0}, 'prompt_tokens_details': {'audio_tokens': 0, 'cached_tokens': 0}}, 'model_name': 'gpt-4-0613', 'system_fingerprint': None, 'id': 'chatcmpl-BMmTWcIIQS8aCHofHZa404NqgeHg3', 'finish_reason': 'stop', 'logprobs': None}, id='run-49dc1855-82a8-42fe-ab00-2f97d78ad463-0', usage_metadata={'input_tokens': 103, 'output_tokens': 83, 'total_tokens': 186, 'input_token_details': {'audio': 0, 'cache_read': 0}, 'output_token_details': {'audio': 0, 'reasoning': 0}})], 'generated_sql_query': 'SELECT product_name, SUM(sales_amount) AS total_sales\\nFROM sales\\nGROUP BY product_name;', 'generated_sql_explanation': 'This SQL query will give you a list of all products in your \"sales\" table, along with the total sales amount for each product. The \"SUM(sales_amount)\" function adds up all the sales for each product, and \"GROUP BY product_name\" groups the results by the name of the product. So, for each unique product name in the sales table, you\\'ll get the total sales amount.'}\n"
     ]
    }
   ],
   "source": [
    "# Example usage\n",
    "result = graph.invoke({\"user_query\": \"What is the total sales for each product?\"})\n",
    "print(result)"
   ]
  },
  {
   "cell_type": "code",
   "execution_count": 25,
   "metadata": {},
   "outputs": [
    {
     "data": {
      "text/plain": [
       "dict_keys(['messages', 'generated_sql_query', 'generated_sql_explanation'])"
      ]
     },
     "execution_count": 25,
     "metadata": {},
     "output_type": "execute_result"
    }
   ],
   "source": [
    "result.keys()"
   ]
  },
  {
   "cell_type": "code",
   "execution_count": 26,
   "metadata": {},
   "outputs": [
    {
     "name": "stdout",
     "output_type": "stream",
     "text": [
      "================================\u001b[1m System Message \u001b[0m================================\n",
      "\n",
      "You are a helpful data analyst, who generates SQL queries for users based on their questions. Return just the SQL query without any further info.\n",
      "================================\u001b[1m Human Message \u001b[0m=================================\n",
      "\n",
      "What is the total sales for each product?\n",
      "==================================\u001b[1m Ai Message \u001b[0m==================================\n",
      "\n",
      "SELECT product_name, SUM(sales_amount) AS total_sales\n",
      "FROM sales\n",
      "GROUP BY product_name;\n",
      "==================================\u001b[1m Ai Message \u001b[0m==================================\n",
      "\n",
      "This SQL query will give you a list of all products in your \"sales\" table, along with the total sales amount for each product. The \"SUM(sales_amount)\" function adds up all the sales for each product, and \"GROUP BY product_name\" groups the results by the name of the product. So, for each unique product name in the sales table, you'll get the total sales amount.\n"
     ]
    }
   ],
   "source": [
    "for m in result['messages']:\n",
    "    m.pretty_print()"
   ]
  },
  {
   "cell_type": "markdown",
   "metadata": {},
   "source": [
    "## 📌 Key Notes\n",
    "\n",
    "| Element              | Affected Node(s)                   | Purpose                                                |\n",
    "|----------------------|------------------------------------|--------------------------------------------------------|\n",
    "| `input=InputState`   | First node after `START` (→ `\"sql_generator\"`) | Validates the structure of the initial input to the graph but passes the full state to it |\n",
    "| `output=OutputState` | Final return value of `graph.invoke(...)` | Filters the final state to return only specific keys   |\n",
    "\n",
    "---\n",
    "\n",
    "## 🧠 What Happens Internally\n",
    "\n",
    "\n",
    "1️⃣\t`graph.invoke(input_dict)` validates input against `InputState`\n",
    "\n",
    "2️⃣\tLangGraph merges the input into a full `OverallState`\n",
    "\n",
    "3️⃣\tFirst node after `START` (`sql_generator`) **receives the complete `OverallState`**\n",
    "\n",
    "4️⃣\tNodes update parts of `OverallState` as they execute\n",
    "\n",
    "5️⃣\tFinal node before `END` (`explanation_generator`) also **receives and returns the full OverallState**\n",
    "\n",
    "6️⃣\tLangGraph **extracts only the keys defined in `OutputState` from the final state and return them**\n"
   ]
  },
  {
   "cell_type": "markdown",
   "metadata": {},
   "source": [
    "---"
   ]
  },
  {
   "cell_type": "markdown",
   "metadata": {},
   "source": [
    "`%pip install langchain`"
   ]
  },
  {
   "cell_type": "markdown",
   "metadata": {},
   "source": [
    "## **🏋️ Exercise!**\n",
    "### Can you Create the same model using **`chains`**? "
   ]
  },
  {
   "cell_type": "code",
   "execution_count": 27,
   "metadata": {},
   "outputs": [
    {
     "name": "stdout",
     "output_type": "stream",
     "text": [
      "0.3.51\n"
     ]
    }
   ],
   "source": [
    "import langchain_core\n",
    "print(langchain_core.__version__)"
   ]
  },
  {
   "cell_type": "code",
   "execution_count": 28,
   "metadata": {},
   "outputs": [
    {
     "name": "stdout",
     "output_type": "stream",
     "text": [
      "[system] You are a helpful data analyst who generates SQL queries for users based on their questions. Return just the SQL code and no explanation.\n",
      "*****************************************************************\n",
      "[human] What is the total sales for each product?\n",
      "*****************************************************************\n",
      "[system] You are a helpful data analyst, who explains SQL queries to users in plain English.\n",
      "*****************************************************************\n",
      "[human] content='SELECT product_id, SUM(sales_amount) AS total_sales\\nFROM sales\\nGROUP BY product_id;' additional_kwargs={'refusal': None} response_metadata={'token_usage': {'completion_tokens': 22, 'prompt_tokens': 46, 'total_tokens': 68, 'completion_tokens_details': {'accepted_prediction_tokens': 0, 'audio_tokens': 0, 'reasoning_tokens': 0, 'rejected_prediction_tokens': 0}, 'prompt_tokens_details': {'audio_tokens': 0, 'cached_tokens': 0}}, 'model_name': 'gpt-3.5-turbo-0125', 'system_fingerprint': None, 'id': 'chatcmpl-BMmTjXjPHTN2R2bblAwEcZoDMFwjr', 'finish_reason': 'stop', 'logprobs': None} id='run-5d83ab38-6a05-4ad1-97b0-e97caac1b612-0' usage_metadata={'input_tokens': 46, 'output_tokens': 22, 'total_tokens': 68, 'input_token_details': {'audio': 0, 'cache_read': 0}, 'output_token_details': {'audio': 0, 'reasoning': 0}}\n",
      "*****************************************************************\n"
     ]
    },
    {
     "data": {
      "text/plain": [
       "\"This SQL query retrieves the total sales amount for each product by summing up the sales amounts from the 'sales' table and grouping the results by the product_id column. The alias 'total_sales' is given to the sum of sales_amount.\""
      ]
     },
     "execution_count": 28,
     "metadata": {},
     "output_type": "execute_result"
    }
   ],
   "source": [
    "from langchain_core.runnables import RunnableLambda\n",
    "from langchain.prompts import ChatPromptTemplate\n",
    "from langchain_openai import ChatOpenAI\n",
    "\n",
    "################### ALL MODELS #####################################################\n",
    "\n",
    "# LLM for SQL generation\n",
    "model_sql_generator = ChatOpenAI(model=\"gpt-3.5-turbo\", temperature=0.1)\n",
    "\n",
    "\n",
    "\n",
    "# LLM for SQL explanation\n",
    "model_explanation_generator = ChatOpenAI(model=\"gpt-3.5-turbo\", temperature=0.7)\n",
    "\n",
    "################### SQL GENERATION CHAIN ####################################\n",
    "# Define SQL Prompt\n",
    "sql_prompt = ChatPromptTemplate.from_messages([\n",
    "    (\"system\", \"You are a helpful data analyst who generates SQL queries for users based on their questions. Return just the SQL code and no explanation.\"),\n",
    "    (\"user\", \"{user_query}\")\n",
    "])\n",
    "\n",
    "\n",
    "\n",
    "def print_promots(input_dict):\n",
    "    for msg in input_dict.messages:\n",
    "        print(f\"[{msg.type}] {msg.content}\")\n",
    "        print('*****************************************************************')\n",
    "    return input_dict\n",
    "\n",
    "\n",
    "\n",
    "\n",
    "sql_generator_chain = (sql_prompt  \n",
    "                       | print_promots  \n",
    "                       | model_sql_generator\n",
    ") \n",
    "# generated_sql = sql_generator_chain.invoke({\"user_query\": \"What is the total sales for each product?\"})\n",
    "# print(generated_sql)\n",
    "\n",
    "\n",
    "######################## EXPLANATION GENERATION CHAIN ###############################\n",
    "# Define Explanation Prompt\n",
    "explanation_prompt = ChatPromptTemplate.from_messages([\n",
    "    (\"system\", \"You are a helpful data analyst, who explains SQL queries to users in plain English.\"),\n",
    "    (\"user\", \"{user_query}\")\n",
    "])\n",
    "\n",
    "\n",
    "\n",
    "# Chain for Explanation generation\n",
    "exp_generator_chain = (explanation_prompt \n",
    "                       | print_promots \n",
    "                       | model_explanation_generator\n",
    ")\n",
    "\n",
    "\n",
    "######################### FINAL CHAIN ###############################\n",
    "\n",
    "# # Final chain with debug included\n",
    "final_chain = (sql_generator_chain \n",
    "                | exp_generator_chain\n",
    ")\n",
    "\n",
    "\n",
    "\n",
    "# # Invoke with user query\n",
    "generated_exp = final_chain.invoke({\"user_query\": \"What is the total sales for each product?\"})\n",
    "generated_exp.content"
   ]
  },
  {
   "cell_type": "markdown",
   "metadata": {},
   "source": [
    "---\n"
   ]
  },
  {
   "cell_type": "markdown",
   "metadata": {},
   "source": [
    "# **3. 🔀 Router**\n",
    "This next architecture moves up the autonomy ladder by assigning to LLMs the next of the responsibilities of deciding the next step to take. That is, whereas the chain architecture always executes a static sequence of steps (however many), the router architecture is characterized by **using an LLM to choose between certain predefined steps.**"
   ]
  },
  {
   "cell_type": "markdown",
   "metadata": {},
   "source": [
    "## **↗️ / ↘️Conditional Edges**\n",
    "\n",
    "\n",
    "[Conditional Edges](https://langchain-ai.github.io/langgraph/concepts/low_level/#conditional-edges) are used if you want to *optionally* route between nodes.\n",
    "\n",
    "If you want to optionally route to 1 or more edges (or optionally terminate), you can use the `add_conditional_edges` method. This method **accepts the name of a source node and a `\"routing function\"` to call after that node is executed**\n",
    " \n",
    "\n",
    "\n",
    "\n",
    "### **Conditional edges are implemented via a `\"routing function\"` that returns the next node to visit based upon some logic.**\n",
    "\n",
    "`graph.add_conditional_edges(\"node_a\", routing_function)`\n",
    "\n",
    "`graph.add_conditional_edges(\"node_a\", routing_function, {True: \"node_b\", False: \"node_c\"})` -->"
   ]
  },
  {
   "cell_type": "code",
   "execution_count": 29,
   "metadata": {},
   "outputs": [],
   "source": [
    "from typing_extensions import TypedDict\n",
    "\n",
    "class State(TypedDict):\n",
    "    graph_state: str"
   ]
  },
  {
   "cell_type": "code",
   "execution_count": 30,
   "metadata": {},
   "outputs": [],
   "source": [
    "def node_1(state: State): # output is an updated State object\n",
    "    print(\"---Node 1---\")\n",
    "    return {\"graph_state\": state['graph_state'] +\" I am\"}\n",
    "\n",
    "\n",
    "def node_2(state: State):\n",
    "    print(\"---Node 2---\")\n",
    "    return {\"graph_state\": state['graph_state'] +\" happy!\"}\n",
    "\n",
    "\n",
    "def node_3(state: State):\n",
    "    print(\"---Node 3---\")\n",
    "    return {\"graph_state\": state['graph_state'] +\" sad!\"}"
   ]
  },
  {
   "cell_type": "code",
   "execution_count": 31,
   "metadata": {},
   "outputs": [],
   "source": [
    "import random\n",
    "from typing import Literal\n",
    "\n",
    "def decide_mood(state) -> Literal[\"node_2\", \"node_3\"]:\n",
    "    \n",
    "    # Often, we will use state to decide on the next node to visit\n",
    "    user_input = state['graph_state'] \n",
    "    \n",
    "    # Here, let's just do a 50 / 50 split between nodes 2, 3\n",
    "    if random.random() < 0.8:\n",
    "\n",
    "        # 50% of the time, we return Node 2\n",
    "        return \"node_2\"\n",
    "    \n",
    "    # 50% of the time, we return Node 3\n",
    "    return \"node_3\""
   ]
  },
  {
   "cell_type": "code",
   "execution_count": 32,
   "metadata": {},
   "outputs": [
    {
     "data": {
      "image/png": "[encoded data removed]",
      "text/plain": [
       "<IPython.core.display.Image object>"
      ]
     },
     "metadata": {},
     "output_type": "display_data"
    }
   ],
   "source": [
    "from IPython.display import Image, display\n",
    "from langgraph.graph import StateGraph, START, END\n",
    "\n",
    "# Build graph\n",
    "builder = StateGraph(State)\n",
    "\n",
    "builder.add_node(\"node_1\", node_1)\n",
    "builder.add_node(\"node_2\", node_2)\n",
    "builder.add_node(\"node_3\", node_3)\n",
    "\n",
    "# Logic\n",
    "builder.add_edge(START, \"node_1\")\n",
    "builder.add_conditional_edges(\"node_1\", decide_mood) # decide_mood is a function which returns a node name (node_2 or node_3)\n",
    "builder.add_edge(\"node_2\", END)\n",
    "builder.add_edge(\"node_3\", END)\n",
    "\n",
    "# Add\n",
    "graph = builder.compile()\n",
    "\n",
    "# View\n",
    "display(Image(graph.get_graph().draw_mermaid_png()))\n",
    "# graph.get_graph().print_ascii()"
   ]
  },
  {
   "cell_type": "markdown",
   "metadata": {},
   "source": [
    "## **🔮 Graph Invocation with `conditional_edge`**\n",
    "\n",
    "The input is a dictionary `{\"graph_state\": \"Hi, this is lance.\"}`, which sets the initial value for our graph state dict.\n",
    "\n",
    "When `invoke` is called, the graph starts execution from the `START` node.\n",
    "\n",
    "It progresses through the defined nodes (`node_1`, `node_2`, `node_3`) in order.\n",
    "\n",
    "The conditional edge will traverse from `node_1` to `node_2` or `node_3` using a `50/50` decision rule. \n",
    "\n",
    "Each node function receives the current state and returns a new value, which overrides the graph state.\n",
    "\n",
    "The execution continues until it reaches the `END` node. "
   ]
  },
  {
   "cell_type": "code",
   "execution_count": 33,
   "metadata": {},
   "outputs": [
    {
     "name": "stdout",
     "output_type": "stream",
     "text": [
      "---Node 1---\n",
      "---Node 2---\n"
     ]
    },
    {
     "data": {
      "text/plain": [
       "{'graph_state': 'Hi, this is Lance. I am happy!'}"
      ]
     },
     "execution_count": 33,
     "metadata": {},
     "output_type": "execute_result"
    }
   ],
   "source": [
    "graph.invoke({\"graph_state\" : \"Hi, this is Lance.\"})"
   ]
  },
  {
   "cell_type": "markdown",
   "metadata": {},
   "source": [
    "---"
   ]
  },
  {
   "cell_type": "markdown",
   "metadata": {},
   "source": [
    "## **Example: 🧠🔍📄 RAG Application**\n",
    "Extract better performance from LLMs by avoiding the inclusion of irrelevant information in the prompt. Therefore, in building this application, we should try to pick the right index to use for each query and use only that one. The key development in this architecture is **to use an LLM to make this decision, effectively using an LLM to evaluate each incoming query and decide which index it should use for that particular query.**\n",
    "\n",
    "1. An LLM call to pick which of the available indexes to use, given the user-supplied query, and the developer-supplied description of the indexes\n",
    "\n",
    "2. A retrieval step that queries the chosen index for the most relevant documents for the user query\n",
    "\n",
    "3. Another LLM call to generate an answer, given the user-supplied query and the list of relevant documents fetched from the index -->"
   ]
  },
  {
   "cell_type": "code",
   "execution_count": 34,
   "metadata": {},
   "outputs": [],
   "source": [
    "from langchain_core.vectorstores.in_memory import InMemoryVectorStore\n",
    "from langchain_openai import ChatOpenAI, OpenAIEmbeddings\n",
    "from langchain_core.documents import Document\n",
    "\n",
    "###############################################################################\n",
    "# Sample documents for testing\n",
    "sample_docs = [\n",
    "    Document(page_content=\"\"\"\n",
    "             John Doe is a 40-year-old male presenting with a persistent dry cough and mild shortness of breath that\n",
    "             started approximately 2 weeks ago. He denies fever, chills, or chest pain. He reports occasional wheezing, which is\n",
    "             worse at night. There has been no recent travel or exposure to sick contacts. He reports mild improvement with \n",
    "             over-the-counter cough syrup but notes that the symptoms have persisted.\n",
    "             \"\"\",\n",
    "            metadata={\"domain\": \"records\"}),\n",
    "\n",
    "\n",
    "    Document(\n",
    "        page_content=\"\"\"\n",
    "            - Covers expenses for hospital admission, including room charges, nursing care, and medications administered during hospitalization.\n",
    "            - Room and Board: Covered up to $1,500 per day for a maximum of 30 days per policy year.\n",
    "            - Intensive Care Unit (ICU): Covered up to $3,000 per day for a maximum of 15 days per policy year.\n",
    "            - Surgeon’s Fees: 100% coverage for medically necessary surgeries.\n",
    "            - Anesthesia and Operating Room Charges: Covered in full.\n",
    "        \"\"\", \n",
    "        metadata={\"domain\": \"insurance\"}\n",
    "    ),\n",
    "]\n",
    "\n",
    "\n",
    "embedding_function = OpenAIEmbeddings(model='text-embedding-3-small')\n",
    "\n",
    "\n",
    "# Initialize vector stores\n",
    "medical_records_store = InMemoryVectorStore.from_documents(sample_docs, embedding_function)\n",
    "medical_records_retriever = medical_records_store.as_retriever()\n",
    "\n",
    "\n",
    "insurance_faqs_store = InMemoryVectorStore.from_documents(sample_docs, embedding_function)\n",
    "insurance_faqs_retriever = insurance_faqs_store.as_retriever()"
   ]
  },
  {
   "cell_type": "code",
   "execution_count": 35,
   "metadata": {},
   "outputs": [
    {
     "data": {
      "image/png": "[encoded data removed]",
      "text/plain": [
       "<IPython.core.display.Image object>"
      ]
     },
     "metadata": {},
     "output_type": "display_data"
    }
   ],
   "source": [
    "from typing import Annotated, Literal, TypedDict\n",
    "from langchain_core.messages import HumanMessage, SystemMessage\n",
    "from langchain_core.vectorstores.in_memory import InMemoryVectorStore\n",
    "from langchain_openai import ChatOpenAI, OpenAIEmbeddings\n",
    "from langgraph.graph import END, START, StateGraph\n",
    "from langgraph.graph.message import add_messages\n",
    "\n",
    "\n",
    "\n",
    "################################################################################\n",
    "class State(TypedDict):\n",
    "    messages: Annotated[list, add_messages] # to track conversation history\n",
    "    user_query: str  # input\n",
    "    # output\n",
    "    domain: Literal[\"records\", \"insurance\"] # Literal: Restricts the value of domain to one of the predefined choices\n",
    "    documents: list[Document]\n",
    "    answer: str\n",
    "\n",
    "\n",
    "\n",
    "class Input(TypedDict):\n",
    "    user_query: str\n",
    "\n",
    "\n",
    "\n",
    "class Output(TypedDict):\n",
    "    documents: list[Document]\n",
    "    answer: str\n",
    "\n",
    "\n",
    "##################################################################################\n",
    "\n",
    "router_prompt = SystemMessage(\n",
    "    \"\"\"You need to decide which domain to route the user query to. You have two domains to choose from:\n",
    "    - records: contains medical records of the patient, such as diagnosis, treatment, and prescriptions.\n",
    "    - insurance: contains frequently asked questions about insurance policies, claims, and coverage.\n",
    "\n",
    "    Output only the domain name.\"\"\"\n",
    ")\n",
    "\n",
    "\n",
    "# useful to generate SQL query\n",
    "model_low_temp = ChatOpenAI(model='gpt-3.5-turbo', temperature=0.1)\n",
    "\n",
    "# Node\n",
    "def router_node(state: State) -> State:# this node calls LLM to check the user query and extract the its domain \n",
    "    user_message = HumanMessage(state[\"user_query\"])\n",
    "    messages = [router_prompt, *state[\"messages\"], user_message]\n",
    "    res = model_low_temp.invoke(messages)\n",
    "    return {\n",
    "        \"domain\": res.content,\n",
    "        \"messages\": [user_message, res],  # update conversation history\n",
    "    }\n",
    "\n",
    "\n",
    "# Decision Function\n",
    "def pick_retriever(state: State,) -> Literal[\"retrieve_medical_records\", \"retrieve_insurance_faqs\"]: # maps the domain picked by the LLM to one of the two nodes. \n",
    "    if state[\"domain\"] == \"records\":\n",
    "        return \"retrieve_medical_records\" # name of the next node to call\n",
    "    else:\n",
    "        return \"retrieve_insurance_faqs\" # name of the next node to call\n",
    "\n",
    "\n",
    "# Node\n",
    "def retrieve_medical_records(state: State) -> State:\n",
    "    documents = medical_records_retriever.invoke(state[\"user_query\"])\n",
    "    return {\n",
    "        \"documents\": documents,\n",
    "    }\n",
    "\n",
    "# Node\n",
    "def retrieve_insurance_faqs(state: State) -> State:\n",
    "    documents = insurance_faqs_retriever.invoke(state[\"user_query\"])\n",
    "    return {\n",
    "        \"documents\": documents,\n",
    "    }\n",
    "\n",
    "#########################################################################################\n",
    "\n",
    "medical_records_prompt = SystemMessage(\n",
    "    \"You are a helpful medical chatbot, who answers questions based on the patient's medical records, such as diagnosis, treatment, and prescriptions.\"\n",
    ")\n",
    "\n",
    "\n",
    "\n",
    "insurance_faqs_prompt = SystemMessage(\n",
    "    \"You are a helpful medical insurance chatbot, who answers frequently asked questions about insurance policies, claims, and coverage.\"\n",
    ")\n",
    "\n",
    "\n",
    "# useful to generate natural language outputs\n",
    "model_high_temp = ChatOpenAI(model='gpt-3.5-turbo', temperature=0.7)\n",
    "\n",
    "\n",
    "# Node\n",
    "def generate_answer(state: State) -> Output:\n",
    "    if state[\"domain\"] == \"records\":\n",
    "        prompt = medical_records_prompt\n",
    "    else:\n",
    "        prompt = insurance_faqs_prompt\n",
    "    messages = [\n",
    "        prompt,\n",
    "        *state[\"messages\"],\n",
    "        HumanMessage(f\"Documents: {state['documents']}\"),\n",
    "    ]\n",
    "    res = model_high_temp.invoke(messages)\n",
    "    return {\n",
    "        \"answer\": res.content,\n",
    "        \"messages\": res,  # update conversation history\n",
    "    }\n",
    "\n",
    "\n",
    "builder = StateGraph(State, input=Input, output=Output)\n",
    "\n",
    "builder.add_node(\"router\", router_node)\n",
    "builder.add_node(\"retrieve_medical_records\", retrieve_medical_records)\n",
    "builder.add_node(\"retrieve_insurance_faqs\", retrieve_insurance_faqs)\n",
    "builder.add_node(\"generate_answer\", generate_answer)\n",
    "\n",
    "builder.add_edge(START, \"router\")\n",
    "builder.add_conditional_edges(\"router\", pick_retriever) # pick_retriever is the decision function\n",
    "builder.add_edge(\"retrieve_medical_records\", \"generate_answer\")\n",
    "builder.add_edge(\"retrieve_insurance_faqs\", \"generate_answer\")\n",
    "\n",
    "\n",
    "builder.add_edge(\"generate_answer\", END)\n",
    "\n",
    "graph = builder.compile()\n",
    "\n",
    "display(Image(graph.get_graph(xray=True).draw_mermaid_png()))"
   ]
  },
  {
   "cell_type": "code",
   "execution_count": 36,
   "metadata": {},
   "outputs": [
    {
     "name": "stdout",
     "output_type": "stream",
     "text": [
      "dict_keys(['documents', 'answer'])\n"
     ]
    },
    {
     "data": {
      "text/plain": [
       "'Based on the information provided in the medical record, John Doe is presenting with symptoms of a persistent dry cough and mild shortness of breath, with occasional wheezing. Since there is no mention of a confirmed COVID-19 diagnosis, I cannot provide specific medications for COVID-19 treatment in this case.\\n\\nIt is important for John Doe to consult a healthcare provider for a proper evaluation and diagnosis, especially given the ongoing symptoms. The healthcare provider can determine the appropriate treatment plan based on the specific diagnosis and medical history of the patient. If COVID-19 is suspected, the healthcare provider may recommend treatment options such as antiviral medications, anti-inflammatory drugs, or supportive care based on the severity of symptoms and individual patient factors.'"
      ]
     },
     "execution_count": 36,
     "metadata": {},
     "output_type": "execute_result"
    }
   ],
   "source": [
    "input = {\"user_query\": \"What medications for COVID-19 treatment?\"}\n",
    "\n",
    "res = graph.invoke(input)\n",
    "print(res.keys())\n",
    "res['answer']"
   ]
  },
  {
   "cell_type": "code",
   "execution_count": 37,
   "metadata": {},
   "outputs": [
    {
     "name": "stdout",
     "output_type": "stream",
     "text": [
      "dict_keys(['documents', 'answer'])\n"
     ]
    },
    {
     "data": {
      "text/plain": [
       "\"I'm sorry, I don't have access to your specific insurance policy details. To find out if your insurance covers the Covid vaccine, I recommend checking your policy documents or contacting your insurance provider directly. They will be able to provide you with the most accurate and up-to-date information regarding your coverage for the Covid vaccine.\""
      ]
     },
     "execution_count": 37,
     "metadata": {},
     "output_type": "execute_result"
    }
   ],
   "source": [
    "input = {\"user_query\": \"Does my insurance cover Covid vaccine?\"}\n",
    "\n",
    "res = graph.invoke(input)\n",
    "print(res.keys())\n",
    "res['answer']"
   ]
  },
  {
   "cell_type": "code",
   "execution_count": 38,
   "metadata": {},
   "outputs": [
    {
     "name": "stdout",
     "output_type": "stream",
     "text": [
      "{'router': {'domain': 'insurance',\n",
      "            'messages': [HumanMessage(content='Does my insurance cover Covid vaccine?', additional_kwargs={}, response_metadata={}, id='7ee33955-7e45-4062-90f9-ef36c679466c'),\n",
      "                         AIMessage(content='insurance', additional_kwargs={'refusal': None}, response_metadata={'token_usage': {'completion_tokens': 2, 'prompt_tokens': 83, 'total_tokens': 85, 'completion_tokens_details': {'accepted_prediction_tokens': 0, 'audio_tokens': 0, 'reasoning_tokens': 0, 'rejected_prediction_tokens': 0}, 'prompt_tokens_details': {'audio_tokens': 0, 'cached_tokens': 0}}, 'model_name': 'gpt-3.5-turbo-0125', 'system_fingerprint': None, 'id': 'chatcmpl-BMmU0kpBb6Tnv8CkOsCou3r1nyWdj', 'finish_reason': 'stop', 'logprobs': None}, id='run-10fd4688-9881-48a7-a0a0-5fddfaa28c2d-0', usage_metadata={'input_tokens': 83, 'output_tokens': 2, 'total_tokens': 85, 'input_token_details': {'audio': 0, 'cache_read': 0}, 'output_token_details': {'audio': 0, 'reasoning': 0}})]}}\n",
      "{'retrieve_insurance_faqs': {'documents': [Document(id='8b23f889-9edf-41d8-bcb1-72b7f4f2b9ef', metadata={'domain': 'insurance'}, page_content='\\n            - Covers expenses for hospital admission, including room charges, nursing care, and medications administered during hospitalization.\\n            - Room and Board: Covered up to $1,500 per day for a maximum of 30 days per policy year.\\n            - Intensive Care Unit (ICU): Covered up to $3,000 per day for a maximum of 15 days per policy year.\\n            - Surgeon’s Fees: 100% coverage for medically necessary surgeries.\\n            - Anesthesia and Operating Room Charges: Covered in full.\\n        '),\n",
      "                                           Document(id='898f4f23-0307-4c28-94e6-9661b57e8337', metadata={'domain': 'records'}, page_content='\\n             John Doe is a 40-year-old male presenting with a persistent dry cough and mild shortness of breath that\\n             started approximately 2 weeks ago. He denies fever, chills, or chest pain. He reports occasional wheezing, which is\\n             worse at night. There has been no recent travel or exposure to sick contacts. He reports mild improvement with \\n             over-the-counter cough syrup but notes that the symptoms have persisted.\\n             ')]}}\n",
      "{'generate_answer': {'answer': \"I'm sorry, I couldn't find information about \"\n",
      "                               'Covid vaccine coverage in the provided '\n",
      "                               'documents. However, many insurance companies '\n",
      "                               'do cover the Covid vaccine as part of '\n",
      "                               'preventive care. I recommend reaching out to '\n",
      "                               'your insurance provider directly to confirm if '\n",
      "                               'the Covid vaccine is covered under your '\n",
      "                               'policy.',\n",
      "                     'messages': AIMessage(content=\"I'm sorry, I couldn't find information about Covid vaccine coverage in the provided documents. However, many insurance companies do cover the Covid vaccine as part of preventive care. I recommend reaching out to your insurance provider directly to confirm if the Covid vaccine is covered under your policy.\", additional_kwargs={'refusal': None}, response_metadata={'token_usage': {'completion_tokens': 56, 'prompt_tokens': 343, 'total_tokens': 399, 'completion_tokens_details': {'accepted_prediction_tokens': 0, 'audio_tokens': 0, 'reasoning_tokens': 0, 'rejected_prediction_tokens': 0}, 'prompt_tokens_details': {'audio_tokens': 0, 'cached_tokens': 0}}, 'model_name': 'gpt-3.5-turbo-0125', 'system_fingerprint': None, 'id': 'chatcmpl-BMmU1pIKAKtl35LIXUNFPHmsHTAAb', 'finish_reason': 'stop', 'logprobs': None}, id='run-9bda57c0-a2bc-4935-9274-05da36334cc6-0', usage_metadata={'input_tokens': 343, 'output_tokens': 56, 'total_tokens': 399, 'input_token_details': {'audio': 0, 'cache_read': 0}, 'output_token_details': {'audio': 0, 'reasoning': 0}})}}\n"
     ]
    }
   ],
   "source": [
    "from pprint import pprint\n",
    "\n",
    "# Example usage\n",
    "input = {\"user_query\": \"Does my insurance cover Covid vaccine?\"}\n",
    "\n",
    "for chunk in graph.stream(input):\n",
    "    pprint(chunk)"
   ]
  },
  {
   "cell_type": "markdown",
   "metadata": {},
   "source": [
    "## **✅ `.invoke()` VS `.stream()`**\n",
    "\n",
    "| Setting              | Affects `.stream()`?         | How?                                                       |\n",
    "|----------------------|-------------------------------|-------------------------------------------------------------|\n",
    "| `input=InputState`   | ✅ Yes                        | Validates input before the graph starts executing           |\n",
    "| `output=OutputState` | ❌ No                         | Streaming emits raw `OverallState` chunks (not filtered)    |\n",
    "| `output=OutputState` | ✅ Yes (in `.invoke()`)       | Final result is trimmed to just the keys in `OutputState`   |\n"
   ]
  }
 ],
 "metadata": {
  "kernelspec": {
   "display_name": "lc-academy-env",
   "language": "python",
   "name": "python3"
  },
  "language_info": {
   "codemirror_mode": {
    "name": "ipython",
    "version": 3
   },
   "file_extension": ".py",
   "mimetype": "text/x-python",
   "name": "python",
   "nbconvert_exporter": "python",
   "pygments_lexer": "ipython3",
   "version": "3.11.9"
  }
 },
 "nbformat": 4,
 "nbformat_minor": 2
}
