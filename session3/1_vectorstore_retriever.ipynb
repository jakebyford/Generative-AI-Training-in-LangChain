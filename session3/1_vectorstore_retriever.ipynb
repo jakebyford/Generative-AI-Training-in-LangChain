{
 "cells": [
  {
   "cell_type": "markdown",
   "id": "f391ba63-6e51-4624-abe2-f4fbd7f3b7cf",
   "metadata": {},
   "source": [
    "## Setting Up Our Environment\n",
    "Don't forget to run ```export OPENAI_API_KEY=sk-...``` to set your api key in the environment variables before running Jupyter. You can set up alternative api keys with hugging face or other client sites to operate with LangChain but that is beyond our scope."
   ]
  },
  {
   "cell_type": "code",
   "execution_count": 1,
   "id": "8784297a-e073-4fbd-b8ca-e811a117c2e6",
   "metadata": {},
   "outputs": [],
   "source": [
    "## Uncomment and run this cell if you need to install the required packages \n",
    "# !pip install langchain-community langchain-openai"
   ]
  },
  {
   "cell_type": "markdown",
   "id": "105cddce",
   "metadata": {
    "id": "105cddce"
   },
   "source": [
    "# How to use a vectorstore as a retriever\n",
    "\n",
    "A vector store retriever is a [retriever](/docs/concepts/retrievers/) that uses a [vector store](/docs/concepts/vectorstores/) to retrieve documents. It is a lightweight wrapper around the vector store class to make it conform to the retriever [interface](/docs/concepts/runnables/).\n",
    "It uses the search methods implemented by a vector store, like similarity search and MMR, to query the texts in the vector store.\n",
    "\n",
    "In this guide we will cover:\n",
    "\n",
    "1. How to instantiate a retriever from a vectorstore;\n",
    "2. How to specify the search type for the retriever;\n",
    "3. How to specify additional search parameters, such as threshold scores and top-k.\n",
    "\n",
    "## Creating a retriever from a vectorstore\n",
    "\n",
    "You can build a retriever from a vectorstore using its [.as_retriever](https://python.langchain.com/api_reference/core/vectorstores/langchain_core.vectorstores.base.VectorStore.html#langchain_core.vectorstores.base.VectorStore.as_retriever) method. Let's walk through an example.\n",
    "\n",
    "First we instantiate a vectorstore. We will use an in-memory [FAISS](https://python.langchain.com/api_reference/community/vectorstores/langchain_community.vectorstores.faiss.FAISS.html) vectorstore:"
   ]
  },
  {
   "cell_type": "code",
   "execution_count": 2,
   "id": "174e3c69",
   "metadata": {
    "id": "174e3c69"
   },
   "outputs": [
    {
     "name": "stderr",
     "output_type": "stream",
     "text": [
      "Created a chunk of size 1535, which is longer than the specified 1000\n"
     ]
    }
   ],
   "source": [
    "from langchain_community.document_loaders import TextLoader\n",
    "from langchain_community.vectorstores import FAISS\n",
    "from langchain_openai import OpenAIEmbeddings\n",
    "from langchain_text_splitters import CharacterTextSplitter\n",
    "\n",
    "loader = TextLoader(\"../session2/some_data/FDR_State_of_Union_1944.txt\")\n",
    "\n",
    "documents = loader.load()\n",
    "text_splitter = CharacterTextSplitter(chunk_size=1000, chunk_overlap=0)\n",
    "texts = text_splitter.split_documents(documents)\n",
    "embeddings = OpenAIEmbeddings()\n",
    "vectorstore = FAISS.from_documents(texts, embeddings)\n",
    "\n",
    "def pretty_print_docs(docs):\n",
    "    print(\n",
    "        f\"\\n{'-' * 100}\\n\".join(\n",
    "            [f\"Document {i+1}:\\n\\n\" + d.page_content for i, d in enumerate(docs)]\n",
    "        )\n",
    "    )"
   ]
  },
  {
   "cell_type": "markdown",
   "id": "6f6e65a1-5eb4-4165-b06b-9bb40624a8d8",
   "metadata": {
    "id": "6f6e65a1-5eb4-4165-b06b-9bb40624a8d8"
   },
   "source": [
    "We can then instantiate a retriever:"
   ]
  },
  {
   "cell_type": "code",
   "execution_count": 3,
   "id": "52df5f55",
   "metadata": {
    "id": "52df5f55"
   },
   "outputs": [],
   "source": [
    "retriever = vectorstore.as_retriever()"
   ]
  },
  {
   "cell_type": "markdown",
   "id": "08f8b820-5912-49c1-9d76-40be0571dffb",
   "metadata": {
    "id": "08f8b820-5912-49c1-9d76-40be0571dffb"
   },
   "source": [
    "This creates a retriever (specifically a [VectorStoreRetriever](https://python.langchain.com/api_reference/core/vectorstores/langchain_core.vectorstores.base.VectorStoreRetriever.html)), which we can use in the usual way:"
   ]
  },
  {
   "cell_type": "code",
   "execution_count": 4,
   "id": "32334fda",
   "metadata": {
    "id": "32334fda"
   },
   "outputs": [],
   "source": [
    "docs = retriever.invoke(\"what did the president say about germany?\")"
   ]
  },
  {
   "cell_type": "markdown",
   "id": "cd12e7d9-c748-4437-88eb-78bac93501cb",
   "metadata": {},
   "source": [
    "## Similarity Metrics\n",
    "The core of the retriever is the <b>similarity calculation. </b>\n",
    "\n",
    "When we specify ```search_type=\"similarity\"```, we're using a similarity metric to compare vectors. \n",
    "\n",
    "As of this date (3/18/2025), these are two out of the three available ```search types``` in the LangChain ```VectorStoreRetriever``` class:\n",
    "\n",
    "- <b>Cosine Similarity</b> (```search_type='similarity'```):\n",
    "    - Measures the cosine of the angle between two vectors:\n",
    "      - $$\n",
    "\\text{similarity}(v_1, v_2) = \\frac{v_1 \\cdot v_2}{\\|v_1\\| \\times \\|v_2\\|}\n",
    "$$\n",
    "\n",
    "      - Where\n",
    "         - ```v1 · v2``` is the dot product\n",
    "         - ```||v||``` is the magnitude of vector v.\n",
    "Cosine similarity ranges from -1 (completely opposite) to 1 (identical direction), with 0 indicating orthogonality (no similarity).\n",
    "\n",
    "\n",
    "- <b>Maximum marginal relevance</b> (```search_type='mmr'```):\n",
    "    - Maximizing relevance to the query and minimizes redundancy among selected documents:\n",
    "      - $$\n",
    "\\text{MMR} = \\arg\\max_{d_i \\in R \\setminus S} \\left[ \\lambda \\times \\text{sim}(d_i, q) - (1-\\lambda) \\times \\max_{d_j \\in S} \\text{sim}(d_i, d_j) \\right]\n",
    "$$\n",
    "      - Where:\n",
    "        - ```R``` is the set of all document vectors\n",
    "        - ```S``` is the set of already selected document vectors (initialized as empty)\n",
    "        - ```q``` is the query vector\n",
    "        - ```sim(x, y)``` is the similarity function (like cosine similarity)\n",
    "        - ```λ``` is a parameter between 0 and 1 that controls the trade-off between relevance and diversity\n",
    "          - λ = 1: <b>Pure relevance-based ranking</b> (equivalent to standard similarity search)\n",
    "          - λ = 0: <b>Pure diversity-based ranking</b> (selecting documents most different from those already chosen)\n",
    "          - 0 < λ < 1: <b>Balanced approach</b>, typically values like 0.5-0.7 work well\n",
    "        - ```arg max``` selects the document that maximizes the expression\n",
    "\n",
    "### Computational Complexity\n",
    "The computational complexity of MMR is higher than standard similarity search:\n",
    "   \n",
    "- ```cosine```: O(n) where n is the number of documents\n",
    "    \n",
    "- ```MMR```: O(n × k) where k is the number of documents to return\n",
    "\n",
    "This is because at each step, MMR needs to compute similarities between each remaining document and all already selected documents."
   ]
  },
  {
   "cell_type": "code",
   "execution_count": 5,
   "id": "117416cc-64b2-49f4-ab24-2720c22d1979",
   "metadata": {},
   "outputs": [
    {
     "data": {
      "text/plain": [
       "3"
      ]
     },
     "execution_count": 5,
     "metadata": {},
     "output_type": "execute_result"
    }
   ],
   "source": [
    "retriever = vectorstore.as_retriever(search_type=\"similarity\",\n",
    "                                    search_kwargs={\"k\": 3}        # Number of documents to return\n",
    "                                    )\n",
    "docs = retriever.invoke(\"what did the president say about germany?\")\n",
    "# docs\n",
    "len(docs)"
   ]
  },
  {
   "cell_type": "code",
   "execution_count": 6,
   "id": "cb40ef84-ff3c-4d8c-adac-541fd3284506",
   "metadata": {},
   "outputs": [
    {
     "name": "stdout",
     "output_type": "stream",
     "text": [
      "Document 1:\n",
      "\n",
      "Let us remember the lessons of 1918. In the summer of that year the tide turned in favor of the allies. But this Government did not relax. In fact, our national effort was stepped up. In August, 1918, the draft age limits were broadened from 21-31 to 18-45. The President called for \"force to the utmost,\" and his call was heeded. And in November, only three months later, Germany surrendered.\n",
      "\n",
      "That is the way to fight and win a warâ€”all outâ€”and not with half-an-eye on the battlefronts abroad and the other eye-and-a-half on personal, selfish, or political interests here at home.\n",
      "\n",
      "Therefore, in order to concentrate all our energies and resources on winning the war, and to maintain a fair and stable economy at home, I recommend that the Congress adopt:\n",
      "----------------------------------------------------------------------------------------------------\n",
      "Document 2:\n",
      "\n",
      "The foreign policy that we have been followingâ€”the policy that guided us at Moscow, Cairo, and Teheranâ€”is based on the common sense principle which was best expressed by Benjamin Franklin on July 4, 1776: \"We must all hang together, or assuredly we shall all hang separately.\"\n",
      "\n",
      "I have often said that there are no two fronts for America in this war. There is only one front. There is one line of unity which extends from the hearts of the people at home to the men of our attacking forces in our farthest outposts. When we speak of our total effort, we speak of the factory and the field, and the mine as well as of the battleground -- we speak of the soldier and the civilian, the citizen and his Government.\n",
      "\n",
      "Each and every one of us has a solemn obligation under God to serve this Nation in its most critical hourâ€”to keep this Nation great -- to make this Nation greater in a better world.\n",
      "----------------------------------------------------------------------------------------------------\n",
      "Document 3:\n",
      "\n",
      "This Nation in the past two years has become an active partner in the world's greatest war against human slavery. We have joined with like-minded people in order to defend ourselves in a world that has been gravely threatened with gangster rule. But I do not think that any of us Americans can be content with mere survival. Sacrifices that we and our allies are making impose upon us all a sacred obligation to see to it that out of this war we and our children will gain something better than mere survival. We are united in determination that this war shall not be followed by another interim which leads to new disaster- that we shall not repeat the tragic errors of ostrich isolationismâ€”that we shall not repeat the excesses of the wild twenties when this Nation went for a joy ride on a roller coaster which ended in a tragic crash. When Mr. Hull went to Moscow in October, and when I went to Cairo and Teheran in November, we knew that we were in agreement with our allies in our common determination to fight and win this war. But there were many vital questions concerning the future peace, and they were discussed in an atmosphere of complete candor and harmony. In the last war such discussions, such meetings, did not even begin until the shooting had stopped and the delegates began to assemble at the peace table. There had been no previous opportunities for man-to-man discussions which lead to meetings of minds. The result was a peace which was not a peace. That was a mistake which we are not repeating in this war.\n"
     ]
    }
   ],
   "source": [
    "pretty_print_docs(docs)"
   ]
  },
  {
   "cell_type": "code",
   "execution_count": 7,
   "id": "51588b93-1d41-472a-9eab-f18b722bd36d",
   "metadata": {},
   "outputs": [
    {
     "data": {
      "text/plain": [
       "3"
      ]
     },
     "execution_count": 7,
     "metadata": {},
     "output_type": "execute_result"
    }
   ],
   "source": [
    "retriever = vectorstore.as_retriever(search_type=\"mmr\",\n",
    "                                    search_kwargs={\n",
    "                                        \"k\": 3,\n",
    "                                        \"lambda_mult\": 0.0      # λ = 0 (high diversity)\n",
    "                                    }\n",
    "                                )\n",
    "docs = retriever.invoke(\"what did the president say about germany?\")\n",
    "# docs\n",
    "len(docs)"
   ]
  },
  {
   "cell_type": "code",
   "execution_count": 8,
   "id": "98b5fcd5-db22-4810-83f5-50e7f32cf305",
   "metadata": {},
   "outputs": [
    {
     "name": "stdout",
     "output_type": "stream",
     "text": [
      "Document 1:\n",
      "\n",
      "Let us remember the lessons of 1918. In the summer of that year the tide turned in favor of the allies. But this Government did not relax. In fact, our national effort was stepped up. In August, 1918, the draft age limits were broadened from 21-31 to 18-45. The President called for \"force to the utmost,\" and his call was heeded. And in November, only three months later, Germany surrendered.\n",
      "\n",
      "That is the way to fight and win a warâ€”all outâ€”and not with half-an-eye on the battlefronts abroad and the other eye-and-a-half on personal, selfish, or political interests here at home.\n",
      "\n",
      "Therefore, in order to concentrate all our energies and resources on winning the war, and to maintain a fair and stable economy at home, I recommend that the Congress adopt:\n",
      "----------------------------------------------------------------------------------------------------\n",
      "Document 2:\n",
      "\n",
      "The fact is the very contrary. It has been shown time and again that if the standard of living of any country goes up, so does its purchasing power- and that such a rise encourages a better standard of living in neighboring countries with whom it trades. That is just plain common senseâ€”and it is the kind of plain common sense that provided the basis for our discussions at Moscow, Cairo, and Teheran.\n",
      "\n",
      "Returning from my journeyings, I must confess to a sense of \"let-down\" when I found many evidences of faulty perspective here in Washington. The faulty perspective consists in overemphasizing lesser problems and thereby underemphasizing the first and greatest problem.\n",
      "----------------------------------------------------------------------------------------------------\n",
      "Document 3:\n",
      "\n",
      "One of the great American industrialists of our dayâ€”a man who has rendered yeoman service to his country in this crisis-recently emphasized the grave dangers of \"rightist reaction\" in this Nation. All clear-thinking businessmen share his concern. Indeed, if such reaction should developâ€”if history were to repeat itself and we were to return to the so-called \"normalcy\" of the 1920'sâ€”then it is certain that even though we shall have conquered our enemies on the battlefields abroad, we shall have yielded to the spirit of Fascism here at home.\n"
     ]
    }
   ],
   "source": [
    "pretty_print_docs(docs)"
   ]
  },
  {
   "cell_type": "markdown",
   "id": "6ce77789",
   "metadata": {
    "id": "6ce77789"
   },
   "source": [
    "## Passing search parameters\n",
    "\n",
    "We can pass parameters to the underlying vectorstore's search methods using `search_kwargs`.\n",
    "\n",
    "### The last ```search_type```: Similarity score threshold retrieval\n",
    "\n",
    "For example, we can set a similarity score threshold and only return documents with a score above that threshold."
   ]
  },
  {
   "cell_type": "code",
   "execution_count": 9,
   "id": "dbb38a03",
   "metadata": {
    "id": "dbb38a03"
   },
   "outputs": [
    {
     "data": {
      "text/plain": [
       "2"
      ]
     },
     "execution_count": 9,
     "metadata": {},
     "output_type": "execute_result"
    }
   ],
   "source": [
    "retriever = vectorstore.as_retriever(\n",
    "    search_type=\"similarity_score_threshold\", \n",
    "    search_kwargs={\"score_threshold\": 0.72}\n",
    ")\n",
    "docs = retriever.invoke(\"what did the president say about germany?\")\n",
    "# docs\n",
    "len(docs)"
   ]
  },
  {
   "cell_type": "code",
   "execution_count": 10,
   "id": "e6cd3a76-e3c8-4c46-8b84-154eabfa6f19",
   "metadata": {},
   "outputs": [
    {
     "name": "stdout",
     "output_type": "stream",
     "text": [
      "Document 1:\n",
      "\n",
      "Let us remember the lessons of 1918. In the summer of that year the tide turned in favor of the allies. But this Government did not relax. In fact, our national effort was stepped up. In August, 1918, the draft age limits were broadened from 21-31 to 18-45. The President called for \"force to the utmost,\" and his call was heeded. And in November, only three months later, Germany surrendered.\n",
      "\n",
      "That is the way to fight and win a warâ€”all outâ€”and not with half-an-eye on the battlefronts abroad and the other eye-and-a-half on personal, selfish, or political interests here at home.\n",
      "\n",
      "Therefore, in order to concentrate all our energies and resources on winning the war, and to maintain a fair and stable economy at home, I recommend that the Congress adopt:\n",
      "----------------------------------------------------------------------------------------------------\n",
      "Document 2:\n",
      "\n",
      "The foreign policy that we have been followingâ€”the policy that guided us at Moscow, Cairo, and Teheranâ€”is based on the common sense principle which was best expressed by Benjamin Franklin on July 4, 1776: \"We must all hang together, or assuredly we shall all hang separately.\"\n",
      "\n",
      "I have often said that there are no two fronts for America in this war. There is only one front. There is one line of unity which extends from the hearts of the people at home to the men of our attacking forces in our farthest outposts. When we speak of our total effort, we speak of the factory and the field, and the mine as well as of the battleground -- we speak of the soldier and the civilian, the citizen and his Government.\n",
      "\n",
      "Each and every one of us has a solemn obligation under God to serve this Nation in its most critical hourâ€”to keep this Nation great -- to make this Nation greater in a better world.\n"
     ]
    }
   ],
   "source": [
    "pretty_print_docs(docs)"
   ]
  },
  {
   "cell_type": "markdown",
   "id": "329f5b26",
   "metadata": {
    "id": "329f5b26"
   },
   "source": [
    "### Specifying top k\n",
    "\n",
    "We can also limit the number of documents `k` returned by the retriever."
   ]
  },
  {
   "cell_type": "code",
   "execution_count": 11,
   "id": "d712c91d",
   "metadata": {
    "id": "d712c91d"
   },
   "outputs": [],
   "source": [
    "retriever = vectorstore.as_retriever(search_kwargs={\"k\": 1})"
   ]
  },
  {
   "cell_type": "code",
   "execution_count": 12,
   "id": "a79b573b",
   "metadata": {
    "id": "a79b573b",
    "outputId": "df87debe-da87-4169-f642-5a8403d33cf7"
   },
   "outputs": [
    {
     "data": {
      "text/plain": [
       "1"
      ]
     },
     "execution_count": 12,
     "metadata": {},
     "output_type": "execute_result"
    }
   ],
   "source": [
    "docs = retriever.invoke(\"what did the president say about germany?\")\n",
    "len(docs)"
   ]
  },
  {
   "cell_type": "code",
   "execution_count": 13,
   "id": "597a8266-50da-4319-89d1-9e4a9ddc2b75",
   "metadata": {},
   "outputs": [
    {
     "data": {
      "text/plain": [
       "'Let us remember the lessons of 1918. In the summer of that year the tide turned in favor of the allies. But this Government did not relax. In fact, our national effort was stepped up. In August, 1918, the draft age limits were broadened from 21-31 to 18-45. The President called for \"force to the utmost,\" and his call was heeded. And in November, only three months later, Germany surrendered.\\n\\nThat is the way to fight and win a warâ€”all outâ€”and not with half-an-eye on the battlefronts abroad and the other eye-and-a-half on personal, selfish, or political interests here at home.\\n\\nTherefore, in order to concentrate all our energies and resources on winning the war, and to maintain a fair and stable economy at home, I recommend that the Congress adopt:'"
      ]
     },
     "execution_count": 13,
     "metadata": {},
     "output_type": "execute_result"
    }
   ],
   "source": [
    "docs[0].page_content"
   ]
  },
  {
   "cell_type": "code",
   "execution_count": null,
   "id": "c0b4be10-1ac5-490e-8867-57ddcf57cc6f",
   "metadata": {},
   "outputs": [],
   "source": []
  }
 ],
 "metadata": {
  "colab": {
   "provenance": []
  },
  "kernelspec": {
   "display_name": "Python 3 (ipykernel)",
   "language": "python",
   "name": "python3"
  },
  "language_info": {
   "codemirror_mode": {
    "name": "ipython",
    "version": 3
   },
   "file_extension": ".py",
   "mimetype": "text/x-python",
   "name": "python",
   "nbconvert_exporter": "python",
   "pygments_lexer": "ipython3",
   "version": "3.12.4"
  }
 },
 "nbformat": 4,
 "nbformat_minor": 5
}
